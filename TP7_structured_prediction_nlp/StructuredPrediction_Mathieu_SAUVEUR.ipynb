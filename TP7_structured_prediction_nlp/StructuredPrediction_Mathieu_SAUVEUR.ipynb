{
 "cells": [
  {
   "cell_type": "markdown",
   "metadata": {},
   "source": [
    "# Explore structured prediction tasks and compare different prediction methods\n",
    "\n",
    "**Authors: maria.boritchev@telecom-paris.fr and matthieu.labeau@telecom-paris.fr**\n",
    "\n",
    "## Objectives:\n",
    "\n",
    "- Explore Part-of-Speech (POS) tagging, in particular through tools integrated to the ```nltk``` library.\n",
    "\n",
    "- Use the notion of _chunking_ and its different implementations and explore sentence structure.\n",
    "\n",
    "- Implement a BIO tagging for POS and compare our implementation with tools integrated to the ```nltk``` library.\n",
    "\n",
    "- Explore Named Entity Recognition (NER) with tools integrated to the ```nltk``` library and ```spaCy``` visualisations.\n",
    "\n",
    "- Compare these tools with a neural network implementation using BERT. \n",
    "\n",
    "- Throughout this lab, we will use several datasets: ```nlp-getting-started```, ```entity-annotated-corpus```, and ```wikibooks-dataset```. These datasets need to be downloaded from the course page."
   ]
  },
  {
   "cell_type": "code",
   "execution_count": 2,
   "metadata": {},
   "outputs": [],
   "source": [
    "# The main packages needed for this lab:\n",
    "import numpy as np\n",
    "import pandas as pd\n",
    "import nltk \n",
    "import os"
   ]
  },
  {
   "cell_type": "markdown",
   "metadata": {},
   "source": [
    "In this lab, we will first use the functions ```word_tokenize``` and ```pos_tag``` for the POS tagging task. "
   ]
  },
  {
   "cell_type": "markdown",
   "metadata": {},
   "source": [
    "### Obtaining and exploring the data\n",
    "We start from the beginning with the ```nlp-getting-started``` dataset. "
   ]
  },
  {
   "cell_type": "code",
   "execution_count": 3,
   "metadata": {},
   "outputs": [],
   "source": [
    "# Read data from nlp-getting-started:\n",
    "nlp_start_df = pd.read_csv('nlp-getting-started/train.csv')"
   ]
  },
  {
   "cell_type": "markdown",
   "metadata": {},
   "source": [
    "Explore the data directories and get familiar with their contents and type: how is the data organised? \n",
    "\n",
    "<span style=\"color:red\">Questions:</span> What type of natural language data are we working with (sentences, words)? What are the sources and languages of the data?"
   ]
  },
  {
   "cell_type": "code",
   "execution_count": 4,
   "metadata": {},
   "outputs": [
    {
     "name": "stdout",
     "output_type": "stream",
     "text": [
      "0 : Our Deeds are the Reason of this #earthquake May ALLAH Forgive us all\n",
      "1 : Forest fire near La Ronge Sask. Canada\n",
      "2 : All residents asked to 'shelter in place' are being notified by officers. No other evacuation or shelter in place orders are expected\n",
      "3 : 13,000 people receive #wildfires evacuation orders in California \n",
      "4 : Just got sent this photo from Ruby #Alaska as smoke from #wildfires pours into a school \n",
      "5 : #RockyFire Update => California Hwy. 20 closed in both directions due to Lake County fire - #CAfire #wildfires\n",
      "6 : #flood #disaster Heavy rain causes flash flooding of streets in Manitou, Colorado Springs areas\n",
      "7 : I'm on top of the hill and I can see a fire in the woods...\n",
      "8 : There's an emergency evacuation happening now in the building across the street\n",
      "9 : I'm afraid that the tornado is coming to our area...\n"
     ]
    }
   ],
   "source": [
    "# Examine example sentences:\n",
    "for i in range (0,10):\n",
    "    print(i, \":\", nlp_start_df[\"text\"][i])"
   ]
  },
  {
   "cell_type": "markdown",
   "metadata": {},
   "source": [
    "**We are working with small texts more or less structured. We can imagine it coming from tweeter or some other socials networks. The posts are in english and contain abbreviations, slang or hashtags.**"
   ]
  },
  {
   "cell_type": "markdown",
   "metadata": {},
   "source": [
    "<span style=\"color:green\">To code:</span> Using the functions ```word_tokenize``` and ```pos_tag``` of ```nltk```, tokenize an example sentence and apply POS tagging to it."
   ]
  },
  {
   "cell_type": "code",
   "execution_count": 5,
   "metadata": {},
   "outputs": [
    {
     "name": "stdout",
     "output_type": "stream",
     "text": [
      "[('Our', 'PRP$'), ('Deeds', 'NNS'), ('are', 'VBP'), ('the', 'DT'), ('Reason', 'NNP'), ('of', 'IN'), ('this', 'DT'), ('#', '#'), ('earthquake', 'NN'), ('May', 'NNP'), ('ALLAH', 'NNP'), ('Forgive', 'NNP'), ('us', 'PRP'), ('all', 'DT')]\n"
     ]
    }
   ],
   "source": [
    "from nltk import word_tokenize, pos_tag\n",
    "# Tokenize a sentence and apply POS tagging:\n",
    "sentences = [s for s in nlp_start_df[\"text\"][0:10]]\n",
    "tokens = [word_tokenize(s) for s in sentences]\n",
    "pos = [pos_tag(t) for t in tokens]\n",
    "print(pos[0])"
   ]
  },
  {
   "cell_type": "markdown",
   "metadata": {},
   "source": [
    "<span style=\"color:red\">Question:</span> What is the set of POS-tags used by the ```pos_tag``` function?"
   ]
  },
  {
   "cell_type": "markdown",
   "metadata": {},
   "source": [
    "**The set of POS-tags used by the pos_tag function is the Penn Treebank POS tagset.**"
   ]
  },
  {
   "cell_type": "markdown",
   "metadata": {},
   "source": [
    "As we discussed during the lecture, there can be different sets of POS-tags. The following shows you the documentation for the ```UPENN``` tagset."
   ]
  },
  {
   "cell_type": "code",
   "execution_count": 6,
   "metadata": {},
   "outputs": [
    {
     "name": "stdout",
     "output_type": "stream",
     "text": [
      "NN: noun, common, singular or mass\n",
      "    common-carrier cabbage knuckle-duster Casino afghan shed thermostat\n",
      "    investment slide humour falloff slick wind hyena override subhumanity\n",
      "    machinist ...\n",
      "IN: preposition or conjunction, subordinating\n",
      "    astride among uppon whether out inside pro despite on by throughout\n",
      "    below within for towards near behind atop around if like until below\n",
      "    next into if beside ...\n",
      "DT: determiner\n",
      "    all an another any both del each either every half la many much nary\n",
      "    neither no some such that the them these this those\n"
     ]
    },
    {
     "name": "stderr",
     "output_type": "stream",
     "text": [
      "[nltk_data] Downloading package tagsets to\n",
      "[nltk_data]     C:\\Users\\matsa\\AppData\\Roaming\\nltk_data...\n",
      "[nltk_data]   Package tagsets is already up-to-date!\n"
     ]
    }
   ],
   "source": [
    "nltk.download('tagsets')\n",
    "\n",
    "nltk.help.upenn_tagset('NN')\n",
    "nltk.help.upenn_tagset('IN')\n",
    "nltk.help.upenn_tagset('DT')"
   ]
  },
  {
   "cell_type": "markdown",
   "metadata": {},
   "source": [
    "<span style=\"color:green\">To code:</span>  Produce a different POS tagging of the same sentence using a different set of POS-tags of your choice."
   ]
  },
  {
   "cell_type": "code",
   "execution_count": 7,
   "metadata": {},
   "outputs": [
    {
     "name": "stdout",
     "output_type": "stream",
     "text": [
      "[('Our', 'PRP$'), ('Deeds', 'NNS'), ('are', 'VBP'), ('the', 'DT'), ('Reason', 'NNP'), ('of', 'IN'), ('this', 'DT'), ('#', '#'), ('earthquake', 'NN'), ('May', 'NNP'), ('ALLAH', 'NNP'), ('Forgive', 'NNP'), ('us', 'PRP'), ('all', 'DT')]\n"
     ]
    },
    {
     "name": "stderr",
     "output_type": "stream",
     "text": [
      "[nltk_data] Downloading package universal_tagset to\n",
      "[nltk_data]     C:\\Users\\matsa\\AppData\\Roaming\\nltk_data...\n",
      "[nltk_data]   Package universal_tagset is already up-to-date!\n"
     ]
    }
   ],
   "source": [
    "# Tokenize the sentence and apply a different set of POS-tags of your choice:\n",
    "nltk.download('universal_tagset')\n",
    "pos2 = [pos_tag(t, tagset='universal') for t in tokens]\n",
    "print(pos[0])\n"
   ]
  },
  {
   "cell_type": "markdown",
   "metadata": {},
   "source": [
    "### Chunking\n",
    "_Chunking_  is a process of grouping small pieces of information into large units. The primary use of chunking in the context of POS-tagging is in building sub-syntactic trees, using POS-tags-based grammars, implemented using _regular expressions_. The resulting subsentences are called _chunks_. For example, we can use chunking to subdivide a sentence in groups of _noun phrases_ (NPs). There are no pre-defined rules or grammars for chunking, these need to be implemented using regular expressions depending on our need. For example, if we want to chunk **only** ```NN``` tags, we need to use the pattern ````mychunk:{<NN>}````. Conversly, if we want to chunk **all types of tags** which start with 'NN', we'll use `mychunk:{<NN.*>}`."
   ]
  },
  {
   "cell_type": "markdown",
   "metadata": {},
   "source": [
    "<span style=\"color:green\">To code:</span>  Apply the chunking method to a sentence from the ```nlp-getting-started``` dataset."
   ]
  },
  {
   "cell_type": "code",
   "execution_count": 8,
   "metadata": {},
   "outputs": [
    {
     "name": "stdout",
     "output_type": "stream",
     "text": [
      "After Chunking:\n",
      " (S\n",
      "  Our/PRP$\n",
      "  Deeds/NNS\n",
      "  are/VBP\n",
      "  the/DT\n",
      "  Reason/NNP\n",
      "  of/IN\n",
      "  this/DT\n",
      "  #/#\n",
      "  (mychunk earthquake/NN)\n",
      "  May/NNP\n",
      "  ALLAH/NNP\n",
      "  Forgive/NNP\n",
      "  us/PRP\n",
      "  all/DT)\n"
     ]
    },
    {
     "data": {
      "image/svg+xml": [
       "<svg baseProfile=\"full\" height=\"168px\" preserveAspectRatio=\"xMidYMid meet\" style=\"font-family: times, serif; font-weight: normal; font-style: normal; font-size: 16px;\" version=\"1.1\" viewBox=\"0,0,696.0,168.0\" width=\"696px\" xmlns=\"http://www.w3.org/2000/svg\" xmlns:ev=\"http://www.w3.org/2001/xml-events\" xmlns:xlink=\"http://www.w3.org/1999/xlink\"><defs /><svg width=\"100%\" x=\"0\" y=\"0px\"><defs /><text text-anchor=\"middle\" x=\"50%\" y=\"16px\">S</text></svg><svg width=\"6.89655%\" x=\"0%\" y=\"48px\"><defs /><svg width=\"100%\" x=\"0\" y=\"0px\"><defs /><text text-anchor=\"middle\" x=\"50%\" y=\"16px\">Our</text></svg><svg width=\"100%\" x=\"0%\" y=\"48px\"><defs /><svg width=\"100%\" x=\"0\" y=\"0px\"><defs /><text text-anchor=\"middle\" x=\"50%\" y=\"16px\">PRP$</text></svg></svg><line stroke=\"black\" x1=\"50%\" x2=\"50%\" y1=\"19.2px\" y2=\"48px\" /></svg><line stroke=\"black\" x1=\"50%\" x2=\"3.44828%\" y1=\"19.2px\" y2=\"48px\" /><svg width=\"8.04598%\" x=\"6.89655%\" y=\"48px\"><defs /><svg width=\"100%\" x=\"0\" y=\"0px\"><defs /><text text-anchor=\"middle\" x=\"50%\" y=\"16px\">Deeds</text></svg><svg width=\"100%\" x=\"0%\" y=\"48px\"><defs /><svg width=\"100%\" x=\"0\" y=\"0px\"><defs /><text text-anchor=\"middle\" x=\"50%\" y=\"16px\">NNS</text></svg></svg><line stroke=\"black\" x1=\"50%\" x2=\"50%\" y1=\"19.2px\" y2=\"48px\" /></svg><line stroke=\"black\" x1=\"50%\" x2=\"10.9195%\" y1=\"19.2px\" y2=\"48px\" /><svg width=\"5.74713%\" x=\"14.9425%\" y=\"48px\"><defs /><svg width=\"100%\" x=\"0\" y=\"0px\"><defs /><text text-anchor=\"middle\" x=\"50%\" y=\"16px\">are</text></svg><svg width=\"100%\" x=\"0%\" y=\"48px\"><defs /><svg width=\"100%\" x=\"0\" y=\"0px\"><defs /><text text-anchor=\"middle\" x=\"50%\" y=\"16px\">VBP</text></svg></svg><line stroke=\"black\" x1=\"50%\" x2=\"50%\" y1=\"19.2px\" y2=\"48px\" /></svg><line stroke=\"black\" x1=\"50%\" x2=\"17.8161%\" y1=\"19.2px\" y2=\"48px\" /><svg width=\"5.74713%\" x=\"20.6897%\" y=\"48px\"><defs /><svg width=\"100%\" x=\"0\" y=\"0px\"><defs /><text text-anchor=\"middle\" x=\"50%\" y=\"16px\">the</text></svg><svg width=\"100%\" x=\"0%\" y=\"48px\"><defs /><svg width=\"100%\" x=\"0\" y=\"0px\"><defs /><text text-anchor=\"middle\" x=\"50%\" y=\"16px\">DT</text></svg></svg><line stroke=\"black\" x1=\"50%\" x2=\"50%\" y1=\"19.2px\" y2=\"48px\" /></svg><line stroke=\"black\" x1=\"50%\" x2=\"23.5632%\" y1=\"19.2px\" y2=\"48px\" /><svg width=\"9.1954%\" x=\"26.4368%\" y=\"48px\"><defs /><svg width=\"100%\" x=\"0\" y=\"0px\"><defs /><text text-anchor=\"middle\" x=\"50%\" y=\"16px\">Reason</text></svg><svg width=\"100%\" x=\"0%\" y=\"48px\"><defs /><svg width=\"100%\" x=\"0\" y=\"0px\"><defs /><text text-anchor=\"middle\" x=\"50%\" y=\"16px\">NNP</text></svg></svg><line stroke=\"black\" x1=\"50%\" x2=\"50%\" y1=\"19.2px\" y2=\"48px\" /></svg><line stroke=\"black\" x1=\"50%\" x2=\"31.0345%\" y1=\"19.2px\" y2=\"48px\" /><svg width=\"4.5977%\" x=\"35.6322%\" y=\"48px\"><defs /><svg width=\"100%\" x=\"0\" y=\"0px\"><defs /><text text-anchor=\"middle\" x=\"50%\" y=\"16px\">of</text></svg><svg width=\"100%\" x=\"0%\" y=\"48px\"><defs /><svg width=\"100%\" x=\"0\" y=\"0px\"><defs /><text text-anchor=\"middle\" x=\"50%\" y=\"16px\">IN</text></svg></svg><line stroke=\"black\" x1=\"50%\" x2=\"50%\" y1=\"19.2px\" y2=\"48px\" /></svg><line stroke=\"black\" x1=\"50%\" x2=\"37.931%\" y1=\"19.2px\" y2=\"48px\" /><svg width=\"6.89655%\" x=\"40.2299%\" y=\"48px\"><defs /><svg width=\"100%\" x=\"0\" y=\"0px\"><defs /><text text-anchor=\"middle\" x=\"50%\" y=\"16px\">this</text></svg><svg width=\"100%\" x=\"0%\" y=\"48px\"><defs /><svg width=\"100%\" x=\"0\" y=\"0px\"><defs /><text text-anchor=\"middle\" x=\"50%\" y=\"16px\">DT</text></svg></svg><line stroke=\"black\" x1=\"50%\" x2=\"50%\" y1=\"19.2px\" y2=\"48px\" /></svg><line stroke=\"black\" x1=\"50%\" x2=\"43.6782%\" y1=\"19.2px\" y2=\"48px\" /><svg width=\"3.44828%\" x=\"47.1264%\" y=\"48px\"><defs /><svg width=\"100%\" x=\"0\" y=\"0px\"><defs /><text text-anchor=\"middle\" x=\"50%\" y=\"16px\">#</text></svg><svg width=\"100%\" x=\"0%\" y=\"48px\"><defs /><svg width=\"100%\" x=\"0\" y=\"0px\"><defs /><text text-anchor=\"middle\" x=\"50%\" y=\"16px\">#</text></svg></svg><line stroke=\"black\" x1=\"50%\" x2=\"50%\" y1=\"19.2px\" y2=\"48px\" /></svg><line stroke=\"black\" x1=\"50%\" x2=\"48.8506%\" y1=\"19.2px\" y2=\"48px\" /><svg width=\"13.7931%\" x=\"50.5747%\" y=\"48px\"><defs /><svg width=\"100%\" x=\"0\" y=\"0px\"><defs /><text text-anchor=\"middle\" x=\"50%\" y=\"16px\">mychunk</text></svg><svg width=\"100%\" x=\"0%\" y=\"48px\"><defs /><svg width=\"100%\" x=\"0\" y=\"0px\"><defs /><text text-anchor=\"middle\" x=\"50%\" y=\"16px\">earthquake</text></svg><svg width=\"100%\" x=\"0%\" y=\"48px\"><defs /><svg width=\"100%\" x=\"0\" y=\"0px\"><defs /><text text-anchor=\"middle\" x=\"50%\" y=\"16px\">NN</text></svg></svg><line stroke=\"black\" x1=\"50%\" x2=\"50%\" y1=\"19.2px\" y2=\"48px\" /></svg><line stroke=\"black\" x1=\"50%\" x2=\"50%\" y1=\"19.2px\" y2=\"48px\" /></svg><line stroke=\"black\" x1=\"50%\" x2=\"57.4713%\" y1=\"19.2px\" y2=\"48px\" /><svg width=\"5.74713%\" x=\"64.3678%\" y=\"48px\"><defs /><svg width=\"100%\" x=\"0\" y=\"0px\"><defs /><text text-anchor=\"middle\" x=\"50%\" y=\"16px\">May</text></svg><svg width=\"100%\" x=\"0%\" y=\"48px\"><defs /><svg width=\"100%\" x=\"0\" y=\"0px\"><defs /><text text-anchor=\"middle\" x=\"50%\" y=\"16px\">NNP</text></svg></svg><line stroke=\"black\" x1=\"50%\" x2=\"50%\" y1=\"19.2px\" y2=\"48px\" /></svg><line stroke=\"black\" x1=\"50%\" x2=\"67.2414%\" y1=\"19.2px\" y2=\"48px\" /><svg width=\"8.04598%\" x=\"70.1149%\" y=\"48px\"><defs /><svg width=\"100%\" x=\"0\" y=\"0px\"><defs /><text text-anchor=\"middle\" x=\"50%\" y=\"16px\">ALLAH</text></svg><svg width=\"100%\" x=\"0%\" y=\"48px\"><defs /><svg width=\"100%\" x=\"0\" y=\"0px\"><defs /><text text-anchor=\"middle\" x=\"50%\" y=\"16px\">NNP</text></svg></svg><line stroke=\"black\" x1=\"50%\" x2=\"50%\" y1=\"19.2px\" y2=\"48px\" /></svg><line stroke=\"black\" x1=\"50%\" x2=\"74.1379%\" y1=\"19.2px\" y2=\"48px\" /><svg width=\"10.3448%\" x=\"78.1609%\" y=\"48px\"><defs /><svg width=\"100%\" x=\"0\" y=\"0px\"><defs /><text text-anchor=\"middle\" x=\"50%\" y=\"16px\">Forgive</text></svg><svg width=\"100%\" x=\"0%\" y=\"48px\"><defs /><svg width=\"100%\" x=\"0\" y=\"0px\"><defs /><text text-anchor=\"middle\" x=\"50%\" y=\"16px\">NNP</text></svg></svg><line stroke=\"black\" x1=\"50%\" x2=\"50%\" y1=\"19.2px\" y2=\"48px\" /></svg><line stroke=\"black\" x1=\"50%\" x2=\"83.3333%\" y1=\"19.2px\" y2=\"48px\" /><svg width=\"5.74713%\" x=\"88.5057%\" y=\"48px\"><defs /><svg width=\"100%\" x=\"0\" y=\"0px\"><defs /><text text-anchor=\"middle\" x=\"50%\" y=\"16px\">us</text></svg><svg width=\"100%\" x=\"0%\" y=\"48px\"><defs /><svg width=\"100%\" x=\"0\" y=\"0px\"><defs /><text text-anchor=\"middle\" x=\"50%\" y=\"16px\">PRP</text></svg></svg><line stroke=\"black\" x1=\"50%\" x2=\"50%\" y1=\"19.2px\" y2=\"48px\" /></svg><line stroke=\"black\" x1=\"50%\" x2=\"91.3793%\" y1=\"19.2px\" y2=\"48px\" /><svg width=\"5.74713%\" x=\"94.2529%\" y=\"48px\"><defs /><svg width=\"100%\" x=\"0\" y=\"0px\"><defs /><text text-anchor=\"middle\" x=\"50%\" y=\"16px\">all</text></svg><svg width=\"100%\" x=\"0%\" y=\"48px\"><defs /><svg width=\"100%\" x=\"0\" y=\"0px\"><defs /><text text-anchor=\"middle\" x=\"50%\" y=\"16px\">DT</text></svg></svg><line stroke=\"black\" x1=\"50%\" x2=\"50%\" y1=\"19.2px\" y2=\"48px\" /></svg><line stroke=\"black\" x1=\"50%\" x2=\"97.1264%\" y1=\"19.2px\" y2=\"48px\" /></svg>"
      ],
      "text/plain": [
       "TreeLayout(Tree('S', [('Our', 'PRP$'), ('Deeds', 'NNS'), ('are', 'VBP'), ('the', 'DT'), ('Reason', 'NNP'), ('of', 'IN'), ('this', 'DT'), ('#', '#'), Tree('mychunk', [('earthquake', 'NN')]), ('May', 'NNP'), ('ALLAH', 'NNP'), ('Forgive', 'NNP'), ('us', 'PRP'), ('all', 'DT')]))"
      ]
     },
     "execution_count": 8,
     "metadata": {},
     "output_type": "execute_result"
    }
   ],
   "source": [
    "from nltk import RegexpParser\n",
    "from nltk.draw.tree import TreeView\n",
    "from IPython.display import Image\n",
    "import svgling\n",
    "\n",
    "sentence = pos[0]\n",
    "\n",
    "# Chunk all nouns from 'sentence' sentence\n",
    "patterns= \"\"\"mychunk:{<NN>+}\"\"\"\n",
    "chunker = RegexpParser(patterns)\n",
    "output = chunker.parse(sentence)\n",
    "print(\"After Chunking:\\n\",output)\n",
    "svgling.draw_tree(output)"
   ]
  },
  {
   "cell_type": "markdown",
   "metadata": {},
   "source": [
    "<span style=\"color:green\">To code:</span>  Produce a chunking of the same sentence retrieving all the adjacence nouns (noun-based tags)."
   ]
  },
  {
   "cell_type": "code",
   "execution_count": 9,
   "metadata": {},
   "outputs": [
    {
     "name": "stdout",
     "output_type": "stream",
     "text": [
      "After Chunking:\n",
      " (S\n",
      "  Our/PRP$\n",
      "  (mychunk Deeds/NNS)\n",
      "  are/VBP\n",
      "  the/DT\n",
      "  (mychunk Reason/NNP)\n",
      "  of/IN\n",
      "  this/DT\n",
      "  #/#\n",
      "  (mychunk earthquake/NN May/NNP ALLAH/NNP Forgive/NNP)\n",
      "  us/PRP\n",
      "  all/DT)\n"
     ]
    },
    {
     "data": {
      "image/svg+xml": [
       "<svg baseProfile=\"full\" height=\"168px\" preserveAspectRatio=\"xMidYMid meet\" style=\"font-family: times, serif; font-weight: normal; font-style: normal; font-size: 16px;\" version=\"1.1\" viewBox=\"0,0,720.0,168.0\" width=\"720px\" xmlns=\"http://www.w3.org/2000/svg\" xmlns:ev=\"http://www.w3.org/2001/xml-events\" xmlns:xlink=\"http://www.w3.org/1999/xlink\"><defs /><svg width=\"100%\" x=\"0\" y=\"0px\"><defs /><text text-anchor=\"middle\" x=\"50%\" y=\"16px\">S</text></svg><svg width=\"6.66667%\" x=\"0%\" y=\"48px\"><defs /><svg width=\"100%\" x=\"0\" y=\"0px\"><defs /><text text-anchor=\"middle\" x=\"50%\" y=\"16px\">Our</text></svg><svg width=\"100%\" x=\"0%\" y=\"48px\"><defs /><svg width=\"100%\" x=\"0\" y=\"0px\"><defs /><text text-anchor=\"middle\" x=\"50%\" y=\"16px\">PRP$</text></svg></svg><line stroke=\"black\" x1=\"50%\" x2=\"50%\" y1=\"19.2px\" y2=\"48px\" /></svg><line stroke=\"black\" x1=\"50%\" x2=\"3.33333%\" y1=\"19.2px\" y2=\"48px\" /><svg width=\"10%\" x=\"6.66667%\" y=\"48px\"><defs /><svg width=\"100%\" x=\"0\" y=\"0px\"><defs /><text text-anchor=\"middle\" x=\"50%\" y=\"16px\">mychunk</text></svg><svg width=\"100%\" x=\"0%\" y=\"48px\"><defs /><svg width=\"100%\" x=\"0\" y=\"0px\"><defs /><text text-anchor=\"middle\" x=\"50%\" y=\"16px\">Deeds</text></svg><svg width=\"100%\" x=\"0%\" y=\"48px\"><defs /><svg width=\"100%\" x=\"0\" y=\"0px\"><defs /><text text-anchor=\"middle\" x=\"50%\" y=\"16px\">NNS</text></svg></svg><line stroke=\"black\" x1=\"50%\" x2=\"50%\" y1=\"19.2px\" y2=\"48px\" /></svg><line stroke=\"black\" x1=\"50%\" x2=\"50%\" y1=\"19.2px\" y2=\"48px\" /></svg><line stroke=\"black\" x1=\"50%\" x2=\"11.6667%\" y1=\"19.2px\" y2=\"48px\" /><svg width=\"5.55556%\" x=\"16.6667%\" y=\"48px\"><defs /><svg width=\"100%\" x=\"0\" y=\"0px\"><defs /><text text-anchor=\"middle\" x=\"50%\" y=\"16px\">are</text></svg><svg width=\"100%\" x=\"0%\" y=\"48px\"><defs /><svg width=\"100%\" x=\"0\" y=\"0px\"><defs /><text text-anchor=\"middle\" x=\"50%\" y=\"16px\">VBP</text></svg></svg><line stroke=\"black\" x1=\"50%\" x2=\"50%\" y1=\"19.2px\" y2=\"48px\" /></svg><line stroke=\"black\" x1=\"50%\" x2=\"19.4444%\" y1=\"19.2px\" y2=\"48px\" /><svg width=\"5.55556%\" x=\"22.2222%\" y=\"48px\"><defs /><svg width=\"100%\" x=\"0\" y=\"0px\"><defs /><text text-anchor=\"middle\" x=\"50%\" y=\"16px\">the</text></svg><svg width=\"100%\" x=\"0%\" y=\"48px\"><defs /><svg width=\"100%\" x=\"0\" y=\"0px\"><defs /><text text-anchor=\"middle\" x=\"50%\" y=\"16px\">DT</text></svg></svg><line stroke=\"black\" x1=\"50%\" x2=\"50%\" y1=\"19.2px\" y2=\"48px\" /></svg><line stroke=\"black\" x1=\"50%\" x2=\"25%\" y1=\"19.2px\" y2=\"48px\" /><svg width=\"10%\" x=\"27.7778%\" y=\"48px\"><defs /><svg width=\"100%\" x=\"0\" y=\"0px\"><defs /><text text-anchor=\"middle\" x=\"50%\" y=\"16px\">mychunk</text></svg><svg width=\"100%\" x=\"0%\" y=\"48px\"><defs /><svg width=\"100%\" x=\"0\" y=\"0px\"><defs /><text text-anchor=\"middle\" x=\"50%\" y=\"16px\">Reason</text></svg><svg width=\"100%\" x=\"0%\" y=\"48px\"><defs /><svg width=\"100%\" x=\"0\" y=\"0px\"><defs /><text text-anchor=\"middle\" x=\"50%\" y=\"16px\">NNP</text></svg></svg><line stroke=\"black\" x1=\"50%\" x2=\"50%\" y1=\"19.2px\" y2=\"48px\" /></svg><line stroke=\"black\" x1=\"50%\" x2=\"50%\" y1=\"19.2px\" y2=\"48px\" /></svg><line stroke=\"black\" x1=\"50%\" x2=\"32.7778%\" y1=\"19.2px\" y2=\"48px\" /><svg width=\"4.44444%\" x=\"37.7778%\" y=\"48px\"><defs /><svg width=\"100%\" x=\"0\" y=\"0px\"><defs /><text text-anchor=\"middle\" x=\"50%\" y=\"16px\">of</text></svg><svg width=\"100%\" x=\"0%\" y=\"48px\"><defs /><svg width=\"100%\" x=\"0\" y=\"0px\"><defs /><text text-anchor=\"middle\" x=\"50%\" y=\"16px\">IN</text></svg></svg><line stroke=\"black\" x1=\"50%\" x2=\"50%\" y1=\"19.2px\" y2=\"48px\" /></svg><line stroke=\"black\" x1=\"50%\" x2=\"40%\" y1=\"19.2px\" y2=\"48px\" /><svg width=\"6.66667%\" x=\"42.2222%\" y=\"48px\"><defs /><svg width=\"100%\" x=\"0\" y=\"0px\"><defs /><text text-anchor=\"middle\" x=\"50%\" y=\"16px\">this</text></svg><svg width=\"100%\" x=\"0%\" y=\"48px\"><defs /><svg width=\"100%\" x=\"0\" y=\"0px\"><defs /><text text-anchor=\"middle\" x=\"50%\" y=\"16px\">DT</text></svg></svg><line stroke=\"black\" x1=\"50%\" x2=\"50%\" y1=\"19.2px\" y2=\"48px\" /></svg><line stroke=\"black\" x1=\"50%\" x2=\"45.5556%\" y1=\"19.2px\" y2=\"48px\" /><svg width=\"3.33333%\" x=\"48.8889%\" y=\"48px\"><defs /><svg width=\"100%\" x=\"0\" y=\"0px\"><defs /><text text-anchor=\"middle\" x=\"50%\" y=\"16px\">#</text></svg><svg width=\"100%\" x=\"0%\" y=\"48px\"><defs /><svg width=\"100%\" x=\"0\" y=\"0px\"><defs /><text text-anchor=\"middle\" x=\"50%\" y=\"16px\">#</text></svg></svg><line stroke=\"black\" x1=\"50%\" x2=\"50%\" y1=\"19.2px\" y2=\"48px\" /></svg><line stroke=\"black\" x1=\"50%\" x2=\"50.5556%\" y1=\"19.2px\" y2=\"48px\" /><svg width=\"36.6667%\" x=\"52.2222%\" y=\"48px\"><defs /><svg width=\"100%\" x=\"0\" y=\"0px\"><defs /><text text-anchor=\"middle\" x=\"50%\" y=\"16px\">mychunk</text></svg><svg width=\"36.3636%\" x=\"0%\" y=\"48px\"><defs /><svg width=\"100%\" x=\"0\" y=\"0px\"><defs /><text text-anchor=\"middle\" x=\"50%\" y=\"16px\">earthquake</text></svg><svg width=\"100%\" x=\"0%\" y=\"48px\"><defs /><svg width=\"100%\" x=\"0\" y=\"0px\"><defs /><text text-anchor=\"middle\" x=\"50%\" y=\"16px\">NN</text></svg></svg><line stroke=\"black\" x1=\"50%\" x2=\"50%\" y1=\"19.2px\" y2=\"48px\" /></svg><line stroke=\"black\" x1=\"50%\" x2=\"18.1818%\" y1=\"19.2px\" y2=\"48px\" /><svg width=\"15.1515%\" x=\"36.3636%\" y=\"48px\"><defs /><svg width=\"100%\" x=\"0\" y=\"0px\"><defs /><text text-anchor=\"middle\" x=\"50%\" y=\"16px\">May</text></svg><svg width=\"100%\" x=\"0%\" y=\"48px\"><defs /><svg width=\"100%\" x=\"0\" y=\"0px\"><defs /><text text-anchor=\"middle\" x=\"50%\" y=\"16px\">NNP</text></svg></svg><line stroke=\"black\" x1=\"50%\" x2=\"50%\" y1=\"19.2px\" y2=\"48px\" /></svg><line stroke=\"black\" x1=\"50%\" x2=\"43.9394%\" y1=\"19.2px\" y2=\"48px\" /><svg width=\"21.2121%\" x=\"51.5152%\" y=\"48px\"><defs /><svg width=\"100%\" x=\"0\" y=\"0px\"><defs /><text text-anchor=\"middle\" x=\"50%\" y=\"16px\">ALLAH</text></svg><svg width=\"100%\" x=\"0%\" y=\"48px\"><defs /><svg width=\"100%\" x=\"0\" y=\"0px\"><defs /><text text-anchor=\"middle\" x=\"50%\" y=\"16px\">NNP</text></svg></svg><line stroke=\"black\" x1=\"50%\" x2=\"50%\" y1=\"19.2px\" y2=\"48px\" /></svg><line stroke=\"black\" x1=\"50%\" x2=\"62.1212%\" y1=\"19.2px\" y2=\"48px\" /><svg width=\"27.2727%\" x=\"72.7273%\" y=\"48px\"><defs /><svg width=\"100%\" x=\"0\" y=\"0px\"><defs /><text text-anchor=\"middle\" x=\"50%\" y=\"16px\">Forgive</text></svg><svg width=\"100%\" x=\"0%\" y=\"48px\"><defs /><svg width=\"100%\" x=\"0\" y=\"0px\"><defs /><text text-anchor=\"middle\" x=\"50%\" y=\"16px\">NNP</text></svg></svg><line stroke=\"black\" x1=\"50%\" x2=\"50%\" y1=\"19.2px\" y2=\"48px\" /></svg><line stroke=\"black\" x1=\"50%\" x2=\"86.3636%\" y1=\"19.2px\" y2=\"48px\" /></svg><line stroke=\"black\" x1=\"50%\" x2=\"70.5556%\" y1=\"19.2px\" y2=\"48px\" /><svg width=\"5.55556%\" x=\"88.8889%\" y=\"48px\"><defs /><svg width=\"100%\" x=\"0\" y=\"0px\"><defs /><text text-anchor=\"middle\" x=\"50%\" y=\"16px\">us</text></svg><svg width=\"100%\" x=\"0%\" y=\"48px\"><defs /><svg width=\"100%\" x=\"0\" y=\"0px\"><defs /><text text-anchor=\"middle\" x=\"50%\" y=\"16px\">PRP</text></svg></svg><line stroke=\"black\" x1=\"50%\" x2=\"50%\" y1=\"19.2px\" y2=\"48px\" /></svg><line stroke=\"black\" x1=\"50%\" x2=\"91.6667%\" y1=\"19.2px\" y2=\"48px\" /><svg width=\"5.55556%\" x=\"94.4444%\" y=\"48px\"><defs /><svg width=\"100%\" x=\"0\" y=\"0px\"><defs /><text text-anchor=\"middle\" x=\"50%\" y=\"16px\">all</text></svg><svg width=\"100%\" x=\"0%\" y=\"48px\"><defs /><svg width=\"100%\" x=\"0\" y=\"0px\"><defs /><text text-anchor=\"middle\" x=\"50%\" y=\"16px\">DT</text></svg></svg><line stroke=\"black\" x1=\"50%\" x2=\"50%\" y1=\"19.2px\" y2=\"48px\" /></svg><line stroke=\"black\" x1=\"50%\" x2=\"97.2222%\" y1=\"19.2px\" y2=\"48px\" /></svg>"
      ],
      "text/plain": [
       "TreeLayout(Tree('S', [('Our', 'PRP$'), Tree('mychunk', [('Deeds', 'NNS')]), ('are', 'VBP'), ('the', 'DT'), Tree('mychunk', [('Reason', 'NNP')]), ('of', 'IN'), ('this', 'DT'), ('#', '#'), Tree('mychunk', [('earthquake', 'NN'), ('May', 'NNP'), ('ALLAH', 'NNP'), ('Forgive', 'NNP')]), ('us', 'PRP'), ('all', 'DT')]))"
      ]
     },
     "execution_count": 9,
     "metadata": {},
     "output_type": "execute_result"
    }
   ],
   "source": [
    "# Chunk all adjacence nouns from 'sentence' sentence\n",
    "sentence = pos[0]\n",
    "\n",
    "patterns= \"\"\"mychunk:{<NN.*>+}\"\"\"\n",
    "chunker = RegexpParser(patterns)\n",
    "output = chunker.parse(sentence)\n",
    "print(\"After Chunking:\\n\",output)\n",
    "svgling.draw_tree(output)"
   ]
  },
  {
   "cell_type": "markdown",
   "metadata": {},
   "source": [
    "Chunking can also be done using BIO algorithm: ```B```eginning of a chunk, ```I```inside of a chunk, ```O```utside of a chunk."
   ]
  },
  {
   "cell_type": "code",
   "execution_count": 10,
   "metadata": {},
   "outputs": [
    {
     "data": {
      "text/plain": [
       "[('Our', 'PRP$', 'O'),\n",
       " ('Deeds', 'NNS', 'B-mychunk'),\n",
       " ('are', 'VBP', 'O'),\n",
       " ('the', 'DT', 'O'),\n",
       " ('Reason', 'NNP', 'B-mychunk'),\n",
       " ('of', 'IN', 'O'),\n",
       " ('this', 'DT', 'O'),\n",
       " ('#', '#', 'O'),\n",
       " ('earthquake', 'NN', 'B-mychunk'),\n",
       " ('May', 'NNP', 'I-mychunk'),\n",
       " ('ALLAH', 'NNP', 'I-mychunk'),\n",
       " ('Forgive', 'NNP', 'I-mychunk'),\n",
       " ('us', 'PRP', 'O'),\n",
       " ('all', 'DT', 'O')]"
      ]
     },
     "execution_count": 10,
     "metadata": {},
     "output_type": "execute_result"
    }
   ],
   "source": [
    "from nltk.chunk import conlltags2tree, tree2conlltags\n",
    "from pprint import pprint # To display the list nicely\n",
    "\n",
    "iob_tagged = tree2conlltags(output)\n",
    "iob_tagged"
   ]
  },
  {
   "cell_type": "markdown",
   "metadata": {},
   "source": [
    "<span style=\"color:green\">To code:</span> Implement a tree-crawling retrieving the list of triples ```('word','POS-tag','BIO-tag')``` from ```chunker.parse``` output trees. "
   ]
  },
  {
   "cell_type": "code",
   "execution_count": 53,
   "metadata": {},
   "outputs": [
    {
     "data": {
      "text/plain": [
       "[('photo', 'NN')]"
      ]
     },
     "execution_count": 53,
     "metadata": {},
     "output_type": "execute_result"
    }
   ],
   "source": [
    "list(output[4])"
   ]
  },
  {
   "cell_type": "code",
   "execution_count": 11,
   "metadata": {},
   "outputs": [
    {
     "data": {
      "text/plain": [
       "[('Our', 'PRP$', 'O'),\n",
       " ('Deeds', 'NNS', 'B'),\n",
       " ('are', 'VBP', 'O'),\n",
       " ('the', 'DT', 'O'),\n",
       " ('Reason', 'NNP', 'B'),\n",
       " ('of', 'IN', 'O'),\n",
       " ('this', 'DT', 'O'),\n",
       " ('#', '#', 'O'),\n",
       " ('earthquake', 'NN', 'B'),\n",
       " ('May', 'NNP', 'I'),\n",
       " ('ALLAH', 'NNP', 'I'),\n",
       " ('Forgive', 'NNP', 'I'),\n",
       " ('us', 'PRP', 'O'),\n",
       " ('all', 'DT', 'O')]"
      ]
     },
     "execution_count": 11,
     "metadata": {},
     "output_type": "execute_result"
    }
   ],
   "source": [
    "# Tree crawler retrieval of triples from chunker.parser output trees\n",
    "\n",
    "from nltk.tree import Tree\n",
    "def extract_triples(tree):\n",
    "    tree = list(tree)\n",
    "    triples = []\n",
    "    for subtree in tree:\n",
    "        if isinstance(subtree, Tree):\n",
    "            if subtree.label() == 'mychunk':\n",
    "                for i, leaf in enumerate(subtree.leaves()):\n",
    "                    if i == 0:\n",
    "                        triples.append((leaf[0], leaf[1], 'B'))\n",
    "                    else:\n",
    "                        triples.append((leaf[0], leaf[1], 'I'))\n",
    "        else:\n",
    "            triples.append((subtree[0], subtree[1], 'O'))\n",
    "    return triples\n",
    "\n",
    "iob_tagged = extract_triples(output)\n",
    "iob_tagged "
   ]
  },
  {
   "cell_type": "markdown",
   "metadata": {},
   "source": [
    "# Named Entity Recognition (NER)\n",
    "\n",
    "NER is also implemented in ```nltk```, using chunking: the ```ne_chunk()``` method in the ```nltk.chunk``` module. "
   ]
  },
  {
   "cell_type": "markdown",
   "metadata": {},
   "source": [
    "<span style=\"color:green\">To code:</span>  Implement NER on the same sentence with the method showcased below."
   ]
  },
  {
   "cell_type": "code",
   "execution_count": 12,
   "metadata": {},
   "outputs": [
    {
     "name": "stdout",
     "output_type": "stream",
     "text": [
      "[Tree('ORGANIZATION', [('Reason', 'NNP')])]\n"
     ]
    },
    {
     "name": "stderr",
     "output_type": "stream",
     "text": [
      "[nltk_data] Downloading package maxent_ne_chunker to\n",
      "[nltk_data]     C:\\Users\\matsa\\AppData\\Roaming\\nltk_data...\n",
      "[nltk_data]   Package maxent_ne_chunker is already up-to-date!\n",
      "[nltk_data] Downloading package words to\n",
      "[nltk_data]     C:\\Users\\matsa\\AppData\\Roaming\\nltk_data...\n",
      "[nltk_data]   Package words is already up-to-date!\n"
     ]
    }
   ],
   "source": [
    "nltk.download('maxent_ne_chunker')\n",
    "nltk.download('words')\n",
    "from nltk.chunk import ne_chunk\n",
    "\n",
    "def extract_ne(trees, labels):\n",
    "    \n",
    "    ne_list = []\n",
    "    for tree in trees:\n",
    "        if hasattr(tree, 'label'):\n",
    "            if tree.label() in labels:\n",
    "                ne_list.append(tree)\n",
    "    \n",
    "    return ne_list\n",
    "\n",
    "# NER on 'sentence' sentence    \n",
    "sentence = sentences[0]            \n",
    "ne_res = ne_chunk(pos_tag(word_tokenize(sentence)))\n",
    "labels = ['ORGANIZATION']\n",
    "\n",
    "print(extract_ne(ne_res, labels))"
   ]
  },
  {
   "cell_type": "markdown",
   "metadata": {},
   "source": [
    "<span style=\"color:red\">Questions:</span> What other labels are available?"
   ]
  },
  {
   "cell_type": "markdown",
   "metadata": {},
   "source": [
    "**PERSON, LOCATION, GPE, FACILITY, MONEY, DATE, TIME, PERCENT are also available.**"
   ]
  },
  {
   "cell_type": "markdown",
   "metadata": {},
   "source": [
    "<span style=\"color:green\">To code:</span> Implement a NE extraction using two or more different labels. "
   ]
  },
  {
   "cell_type": "code",
   "execution_count": 13,
   "metadata": {},
   "outputs": [
    {
     "name": "stdout",
     "output_type": "stream",
     "text": [
      "[Tree('GPE', [('Forest', 'NNP')]), Tree('PERSON', [('La', 'NNP'), ('Ronge', 'NNP'), ('Sask', 'NNP')]), Tree('PERSON', [('Canada', 'NNP')])]\n"
     ]
    }
   ],
   "source": [
    "# NER using two or more different labels\n",
    "\n",
    "def extract_ne(trees, labels):\n",
    "    \n",
    "    ne_list = []\n",
    "    for tree in trees:\n",
    "        if hasattr(tree, 'label'):\n",
    "            if tree.label() in labels:\n",
    "                ne_list.append(tree)\n",
    "    \n",
    "    return ne_list\n",
    "\n",
    "# NER on 'sentence' sentence    \n",
    "sentence = sentences[1]            \n",
    "ne_res = ne_chunk(pos_tag(word_tokenize(sentence)))\n",
    "labels = ['ORGANIZATION', 'PERSON', 'GPE']\n",
    "\n",
    "print(extract_ne(ne_res, labels))"
   ]
  },
  {
   "cell_type": "markdown",
   "metadata": {},
   "source": [
    "## NER and ```spaCy```\n",
    "\n",
    "```spaCy``` module also contains a statistical NER system. It is trained to identify named and numeric entities, such as companies, locations, organizations and products. First, we need more complex data. "
   ]
  },
  {
   "cell_type": "code",
   "execution_count": 14,
   "metadata": {},
   "outputs": [
    {
     "data": {
      "text/html": [
       "<div>\n",
       "<style scoped>\n",
       "    .dataframe tbody tr th:only-of-type {\n",
       "        vertical-align: middle;\n",
       "    }\n",
       "\n",
       "    .dataframe tbody tr th {\n",
       "        vertical-align: top;\n",
       "    }\n",
       "\n",
       "    .dataframe thead th {\n",
       "        text-align: right;\n",
       "    }\n",
       "</style>\n",
       "<table border=\"1\" class=\"dataframe\">\n",
       "  <thead>\n",
       "    <tr style=\"text-align: right;\">\n",
       "      <th></th>\n",
       "      <th>title</th>\n",
       "      <th>url</th>\n",
       "      <th>abstract</th>\n",
       "      <th>body_text</th>\n",
       "      <th>body_html</th>\n",
       "    </tr>\n",
       "  </thead>\n",
       "  <tbody>\n",
       "    <tr>\n",
       "      <th>0</th>\n",
       "      <td>Wikibooks: Radiation Oncology/NHL/CLL-SLL</td>\n",
       "      <td>https://en.wikibooks.org/wiki/Radiation_Oncolo...</td>\n",
       "      <td>Chronic Lymphocytic Leukemia and Small Lymphoc...</td>\n",
       "      <td>Front Page: Radiation Oncology | RTOG Trials |...</td>\n",
       "      <td>&lt;div class=\"mw-parser-output\"&gt;&lt;table width=\"10...</td>\n",
       "    </tr>\n",
       "    <tr>\n",
       "      <th>1</th>\n",
       "      <td>Wikibooks: Romanian/Lesson 9</td>\n",
       "      <td>https://en.wikibooks.org/wiki/Romanian/Lesson_9</td>\n",
       "      <td>==Băuturi/Beverages==</td>\n",
       "      <td>Băuturi/Beverages[edit | edit source]\\nTea : C...</td>\n",
       "      <td>&lt;div class=\"mw-parser-output\"&gt;&lt;h2&gt;&lt;span id=\"B....</td>\n",
       "    </tr>\n",
       "    <tr>\n",
       "      <th>2</th>\n",
       "      <td>Wikibooks: Karrigell</td>\n",
       "      <td>https://en.wikibooks.org/wiki/Karrigell</td>\n",
       "      <td>Karrigell is an open Source Python web framewo...</td>\n",
       "      <td>Karrigell is an open Source Python web framewo...</td>\n",
       "      <td>&lt;div class=\"mw-parser-output\"&gt;&lt;p&gt;Karrigell is ...</td>\n",
       "    </tr>\n",
       "    <tr>\n",
       "      <th>3</th>\n",
       "      <td>Wikibooks: The Pyrogenesis Engine/0 A.D./GuiSe...</td>\n",
       "      <td>https://en.wikibooks.org/wiki/The_Pyrogenesis_...</td>\n",
       "      <td>====setupUnitPanel====</td>\n",
       "      <td>setupUnitPanel[edit | edit source]\\nHelper fun...</td>\n",
       "      <td>&lt;div class=\"mw-parser-output\"&gt;&lt;h4&gt;&lt;span class=...</td>\n",
       "    </tr>\n",
       "    <tr>\n",
       "      <th>4</th>\n",
       "      <td>Wikibooks: LMIs in Control/pages/Exterior Coni...</td>\n",
       "      <td>https://en.wikibooks.org/wiki/LMIs_in_Control/...</td>\n",
       "      <td>== The Concept ==</td>\n",
       "      <td>Contents\\n\\n1 The Concept\\n2 The System\\n3 The...</td>\n",
       "      <td>&lt;div class=\"mw-parser-output\"&gt;&lt;div id=\"toc\" cl...</td>\n",
       "    </tr>\n",
       "  </tbody>\n",
       "</table>\n",
       "</div>"
      ],
      "text/plain": [
       "                                               title  \\\n",
       "0          Wikibooks: Radiation Oncology/NHL/CLL-SLL   \n",
       "1                       Wikibooks: Romanian/Lesson 9   \n",
       "2                               Wikibooks: Karrigell   \n",
       "3  Wikibooks: The Pyrogenesis Engine/0 A.D./GuiSe...   \n",
       "4  Wikibooks: LMIs in Control/pages/Exterior Coni...   \n",
       "\n",
       "                                                 url  \\\n",
       "0  https://en.wikibooks.org/wiki/Radiation_Oncolo...   \n",
       "1    https://en.wikibooks.org/wiki/Romanian/Lesson_9   \n",
       "2            https://en.wikibooks.org/wiki/Karrigell   \n",
       "3  https://en.wikibooks.org/wiki/The_Pyrogenesis_...   \n",
       "4  https://en.wikibooks.org/wiki/LMIs_in_Control/...   \n",
       "\n",
       "                                            abstract  \\\n",
       "0  Chronic Lymphocytic Leukemia and Small Lymphoc...   \n",
       "1                              ==Băuturi/Beverages==   \n",
       "2  Karrigell is an open Source Python web framewo...   \n",
       "3                             ====setupUnitPanel====   \n",
       "4                                  == The Concept ==   \n",
       "\n",
       "                                           body_text  \\\n",
       "0  Front Page: Radiation Oncology | RTOG Trials |...   \n",
       "1  Băuturi/Beverages[edit | edit source]\\nTea : C...   \n",
       "2  Karrigell is an open Source Python web framewo...   \n",
       "3  setupUnitPanel[edit | edit source]\\nHelper fun...   \n",
       "4  Contents\\n\\n1 The Concept\\n2 The System\\n3 The...   \n",
       "\n",
       "                                           body_html  \n",
       "0  <div class=\"mw-parser-output\"><table width=\"10...  \n",
       "1  <div class=\"mw-parser-output\"><h2><span id=\"B....  \n",
       "2  <div class=\"mw-parser-output\"><p>Karrigell is ...  \n",
       "3  <div class=\"mw-parser-output\"><h4><span class=...  \n",
       "4  <div class=\"mw-parser-output\"><div id=\"toc\" cl...  "
      ]
     },
     "execution_count": 14,
     "metadata": {},
     "output_type": "execute_result"
    }
   ],
   "source": [
    "import sqlite3\n",
    "\n",
    "cnx = sqlite3.connect('wikibooks.sqlite')\n",
    "df_wikibooks = pd.read_sql_query(\"SELECT * FROM en\", cnx)\n",
    "df_wikibooks.head()"
   ]
  },
  {
   "cell_type": "markdown",
   "metadata": {},
   "source": [
    "The following displays ```spaCy```'s NER on a given document from the ```wikibooks``` dataset."
   ]
  },
  {
   "cell_type": "code",
   "execution_count": 19,
   "metadata": {},
   "outputs": [
    {
     "name": "stdout",
     "output_type": "stream",
     "text": [
      "\u001b[38;5;2m✔ Download and installation successful\u001b[0m\n",
      "You can now load the package via spacy.load('en_core_web_sm')\n",
      "\u001b[38;5;3m⚠ Restart to reload dependencies\u001b[0m\n",
      "If you are in a Jupyter or Colab notebook, you may need to restart Python in\n",
      "order to load all the package's dependencies. You can do this by selecting the\n",
      "'Restart kernel' or 'Restart runtime' option.\n",
      "This Wikibooks page is a fact sheet and analysis on the article \"Habitual physical activity in children and adolescents with cystic fibrosis\" about how exercise is related to the disease Cystic Fibrosis.\n",
      "\n",
      "Contents\n",
      "\n",
      "1 Background of this research\n",
      "2 Where is the research from ?\n",
      "3 What kind of research was this?\n",
      "4 What did the research involve?\n",
      "\n",
      "4.1 Pulmonary Function testing\n",
      "4.2 Pros / Cons of this test\n",
      "\n",
      "\n",
      "5 What were the basic results?\n",
      "6 What conclusion can we take from this research ?\n",
      "7 Practical Advice\n",
      "8 Further information/ Resources\n",
      "\n",
      "8.1 Cystic Fibrosis Australia\n",
      "8.2 Cystic Fibrosis's National Ambassador Nathan Charles\n",
      "\n",
      "\n",
      "9 References\n",
      "\n",
      "\n",
      "\n",
      "Background of this research[edit | edit source]\n",
      "The research was about the effects of taking part in exercise constantly or making it a habit in the population of children and teens that are severing from the genetic condition cystic Fibrosis.\n",
      "What is  Cystic Fibrosis\n",
      "It is a genetic condition, affecting lungs and digestion. Unfortunately, there is no cure. The condition Cystic Fibrosis (CF) is mostly inherited in the white population with 1 in every 3300 live births being diagnosed with the condition.[1]\n",
      "\n",
      "Where is the research from ?[edit | edit source]\n",
      "This research was based in the American Children’s hospital Pittsburgh in the CF centre. Volunteers for this research included siblings, friends and hospital employee’s children who did not have the condition. Two authors of this research work within the department as paediatrics and others have conducted research regarding children with CF. This included David Michael Orenstein who has many publications on CF. These authors have also conducted other research on children with CF with methods of exercise that can help combat the condition.[2]\n",
      "\n",
      "What kind of research was this?[edit | edit source]\n",
      "This was a meta-analysis form of research; even though this kind of research is time consuming the results are valid and reliable. Other studies that have been done have very similar results, regarding the effects of physical activity and the benefits it has on children and adolescents with CF. For an example, a study that was conducted in Austria compared the effects of physical activity versus chest physiotherapy which is popular within the CF community.[3] Two of the authors, David Michael and Patricia from the research article have conducted a study of “The prognostic value of exercise testing in patients with CF”.[2] Also, the Journal of Paediatric Pulmonology had similar conclusions that through exercise there is an improvement in oxygen consumption and physical self-efficiency and appearance in patients. As well as, lots of positive changes in living conditions of the patients.[4] Even though the research method used in these three studies differ, they all have very similar conclusions that exercise is beneficial for children with CF.\n",
      "\n",
      "What did the research involve?[edit | edit source]\n",
      "60 people in total 7–17 years of age[5]\n",
      "30 Patients with cystic fibrosis  (18 male, 12 female)[5]\n",
      "30 people in the control not affected (17 male, 13 female )[5]\n",
      "The participants completed a Questionnaire about their activity levels. Children 12 years and older completed it with no help or little assistant. Children 12 years and under did it with a parent or guardian. \n",
      "When getting tested the children did 2 types of tests, a Pulmonary Function test, and an Exercise Test. The level of aerobic fitness was tested by the participant completing a progressive exercise test on a stationary electronic bike (cycle ergometer) using the Godfrey protocol. Oxygen uptake was measured using a cart that you breathed into and then It  analysed the breath content. This was recorded during the last 15 seconds of each stage exercise\n",
      "\n",
      "Pulmonary Function testing[edit | edit source]\n",
      "Pulmonary function was tested before exercising. Children who have CF had limited experience in doing these tests as they did not have regular exposure to the test due to the condition. A spirometry was used to measure pulmonary lung function capacity. The aim of the test is to measure how much and how quickly an individual is able to move air out of their lungs” ([6] this is done by breathing into a mouth piece connected to a device that records the air and it called a spirometer.\n",
      "\n",
      "Pros / Cons of this test[edit | edit source]\n",
      "This study was very good for testing but there were disadvantages on the younger population in the study due to being short as they were  unable to reach the pedals. Another limitation of the study is that focus was only on the effects of aerobic training and did not take into account the benefit of anaerobic or resistance training can have on an individual. Also, the Australian Cystic Fibrosis Council suggest that core strength is also an important component of helping with the clearance of mucus for patients[1]\n",
      "\n",
      "What were the basic results?[edit | edit source]\n",
      "The survival rate of living with Cystic Fibrosis is affected by the engagement of regulary physical Activity\n",
      "The oxygen consumption improves with exercise.\n",
      "Exercise helps with the removal of mucus\n",
      "Children with Cystic Fibrosis participate in less vigorous physical exercise and activities when compared with children not affected by CF\n",
      "What conclusion can we take from this research ?[edit | edit source]\n",
      "In conclusion, this research demonstrates that exercise does have benefit's for children living with CF as it increases the survival rate and increase life expectancy. I believe one thing that is important when trying to help treat children with CF is to treat them normally and allowing them to engage in the activity as their peers are doing, within reason.\n",
      "\n",
      "Practical Advice[edit | edit source]\n",
      "Before trying to treat CF with exercise consult Doctors about the type of exercise and don’t push yourself too hard. Build up the intensity.\n",
      "\n",
      "Further information/ Resources[edit | edit source]\n",
      "Cystic Fibrosis Australia[edit | edit source]\n",
      "Cystic Fibrosis Australia even suggests that exercise is an important component of treating cystic fibrosis as it help with clearing the airways and building core strength.[1]\n",
      "Web Page: http://www.cysticfibrosis.org.au\n",
      "\n",
      "Cystic Fibrosis's National Ambassador Nathan Charles[edit | edit source]\n",
      "Cystic Fibrosis's National Ambassador Nathan Charles an elite rugby union player playing a contact sport while living with the condition cystic fibrosis. Shows that it is possible to stay fit and achieve great success with cystic fibrosis.[7]\n",
      "Nathan Charles Web page http://nathancharles.com.au\n",
      "Playing Elite Rugby with CF:  http://nathancharles.com.au/nutri-grain-unstoppable/\n",
      "\n",
      "References[edit | edit source]\n",
      "\n",
      "\n",
      "↑ a b c Cystic Fibrosis [Internet]. Cysticfibrosis.org.au. 2016 [cited 24 September 2016]. Available from: http://www.cysticfibrosis.org.au/all/learn/\n",
      "\n",
      "↑ a b Nixon P, Orenstein D, Kelsey S, Doershuk C. The prognostic value of exercise testing in patients with cystic fibrosis [Internet]. Saskatoon Public Library. 2010 [cited 15 September 2016]. Available from: http://saskatoonlibrary.ca/eds/item?dbid=edsgea&an=edsgcl.13305971\n",
      "\n",
      "↑ M. Orenstein D, A. Nixon P, A. Washburn , F. Kelsey S. Measuring Physical Activity in Children with Cystic Fibrosis: Comparison of Four Methods: Paediatric Exercise Science: Vol 5, No 2. Paediatric Exercise Science [Internet]. 2016 [cited 13 September 2016];5(2):125-133. Available from: http://journals.humankinetics.com/doi/pdf/10.1123/pes.5.2.125\n",
      "\n",
      "↑ Gulmans V, de Meer K, Brackel H, Faber J, Berger R, Helders P. Outpatient exercise training in children with cystic fibrosis: Physiological effects, perceived competence, and acceptability. Pediatric Pulmonology [Internet]. 1999 [cited 15 September 2016];28(1):39-46. Available from: http://onlinelibrary.wiley.com/doi/10.1002/(SICI)1099-0496(199907)28:1%3C39::AID-PPUL7%3E3.0.CO;2-8/abstract\n",
      "\n",
      "↑ a b c NIXON P, ORENSTEIN D, KELSEY S. Habitual physical activity in children and adolescents with CF. Medicine and Science in Sports and Exercise [Internet]. 2001 [cited 2 September 2016];33(1):30-35. Available from: http://zh9bf5sp6t.scholar.serialssolutions.com/?sid=google&auinit=PA&aulast=Nixon&atitle=Habitual+physical+activity+in+children+and+adolescents+with+cystic+fibrosis.&id=pmid:1119410\n",
      "\n",
      "↑ Lung Function Tests [Internet]. WebMD. 2016 [cited 14 September 2016]. Available from: http://www.webmd.com/lung/lung-function-tests\n",
      "\n",
      "↑ Charles N. NATIONAL AMBASSADOR FOR CYSTIC FIBROSIS AUSTRALIA [Internet]. Nathan Charles. 2015 [cited 25 September 2016]. Available from: http://nathancharles.com.au/bio/\n"
     ]
    },
    {
     "data": {
      "text/plain": [
       "This Wikibooks page is a fact sheet and analysis on the article \"Habitual physical activity in children and adolescents with cystic fibrosis\" about how exercise is related to the disease Cystic Fibrosis.\n",
       "\n",
       "Contents\n",
       "\n",
       "1 Background of this research\n",
       "2 Where is the research from ?\n",
       "3 What kind of research was this?\n",
       "4 What did the research involve?\n",
       "\n",
       "4.1 Pulmonary Function testing\n",
       "4.2 Pros / Cons of this test\n",
       "\n",
       "\n",
       "5 What were the basic results?\n",
       "6 What conclusion can we take from this research ?\n",
       "7 Practical Advice\n",
       "8 Further information/ Resources\n",
       "\n",
       "8.1 Cystic Fibrosis Australia\n",
       "8.2 Cystic Fibrosis's National Ambassador Nathan Charles\n",
       "\n",
       "\n",
       "9 References\n",
       "\n",
       "\n",
       "\n",
       "Background of this research[edit | edit source]\n",
       "The research was about the effects of taking part in exercise constantly or making it a habit in the population of children and teens that are severing from the genetic condition cystic Fibrosis.\n",
       "What is  Cystic Fibrosis\n",
       "It is a genetic condition, affecting lungs and digestion. Unfortunately, there is no cure. The condition Cystic Fibrosis (CF) is mostly inherited in the white population with 1 in every 3300 live births being diagnosed with the condition.[1]\n",
       "\n",
       "Where is the research from ?[edit | edit source]\n",
       "This research was based in the American Children’s hospital Pittsburgh in the CF centre. Volunteers for this research included siblings, friends and hospital employee’s children who did not have the condition. Two authors of this research work within the department as paediatrics and others have conducted research regarding children with CF. This included David Michael Orenstein who has many publications on CF. These authors have also conducted other research on children with CF with methods of exercise that can help combat the condition.[2]\n",
       "\n",
       "What kind of research was this?[edit | edit source]\n",
       "This was a meta-analysis form of research; even though this kind of research is time consuming the results are valid and reliable. Other studies that have been done have very similar results, regarding the effects of physical activity and the benefits it has on children and adolescents with CF. For an example, a study that was conducted in Austria compared the effects of physical activity versus chest physiotherapy which is popular within the CF community.[3] Two of the authors, David Michael and Patricia from the research article have conducted a study of “The prognostic value of exercise testing in patients with CF”.[2] Also, the Journal of Paediatric Pulmonology had similar conclusions that through exercise there is an improvement in oxygen consumption and physical self-efficiency and appearance in patients. As well as, lots of positive changes in living conditions of the patients.[4] Even though the research method used in these three studies differ, they all have very similar conclusions that exercise is beneficial for children with CF.\n",
       "\n",
       "What did the research involve?[edit | edit source]\n",
       "60 people in total 7–17 years of age[5]\n",
       "30 Patients with cystic fibrosis  (18 male, 12 female)[5]\n",
       "30 people in the control not affected (17 male, 13 female )[5]\n",
       "The participants completed a Questionnaire about their activity levels. Children 12 years and older completed it with no help or little assistant. Children 12 years and under did it with a parent or guardian. \n",
       "When getting tested the children did 2 types of tests, a Pulmonary Function test, and an Exercise Test. The level of aerobic fitness was tested by the participant completing a progressive exercise test on a stationary electronic bike (cycle ergometer) using the Godfrey protocol. Oxygen uptake was measured using a cart that you breathed into and then It  analysed the breath content. This was recorded during the last 15 seconds of each stage exercise\n",
       "\n",
       "Pulmonary Function testing[edit | edit source]\n",
       "Pulmonary function was tested before exercising. Children who have CF had limited experience in doing these tests as they did not have regular exposure to the test due to the condition. A spirometry was used to measure pulmonary lung function capacity. The aim of the test is to measure how much and how quickly an individual is able to move air out of their lungs” ([6] this is done by breathing into a mouth piece connected to a device that records the air and it called a spirometer.\n",
       "\n",
       "Pros / Cons of this test[edit | edit source]\n",
       "This study was very good for testing but there were disadvantages on the younger population in the study due to being short as they were  unable to reach the pedals. Another limitation of the study is that focus was only on the effects of aerobic training and did not take into account the benefit of anaerobic or resistance training can have on an individual. Also, the Australian Cystic Fibrosis Council suggest that core strength is also an important component of helping with the clearance of mucus for patients[1]\n",
       "\n",
       "What were the basic results?[edit | edit source]\n",
       "The survival rate of living with Cystic Fibrosis is affected by the engagement of regulary physical Activity\n",
       "The oxygen consumption improves with exercise.\n",
       "Exercise helps with the removal of mucus\n",
       "Children with Cystic Fibrosis participate in less vigorous physical exercise and activities when compared with children not affected by CF\n",
       "What conclusion can we take from this research ?[edit | edit source]\n",
       "In conclusion, this research demonstrates that exercise does have benefit's for children living with CF as it increases the survival rate and increase life expectancy. I believe one thing that is important when trying to help treat children with CF is to treat them normally and allowing them to engage in the activity as their peers are doing, within reason.\n",
       "\n",
       "Practical Advice[edit | edit source]\n",
       "Before trying to treat CF with exercise consult Doctors about the type of exercise and don’t push yourself too hard. Build up the intensity.\n",
       "\n",
       "Further information/ Resources[edit | edit source]\n",
       "Cystic Fibrosis Australia[edit | edit source]\n",
       "Cystic Fibrosis Australia even suggests that exercise is an important component of treating cystic fibrosis as it help with clearing the airways and building core strength.[1]\n",
       "Web Page: http://www.cysticfibrosis.org.au\n",
       "\n",
       "Cystic Fibrosis's National Ambassador Nathan Charles[edit | edit source]\n",
       "Cystic Fibrosis's National Ambassador Nathan Charles an elite rugby union player playing a contact sport while living with the condition cystic fibrosis. Shows that it is possible to stay fit and achieve great success with cystic fibrosis.[7]\n",
       "Nathan Charles Web page http://nathancharles.com.au\n",
       "Playing Elite Rugby with CF:  http://nathancharles.com.au/nutri-grain-unstoppable/\n",
       "\n",
       "References[edit | edit source]\n",
       "\n",
       "\n",
       "↑ a b c Cystic Fibrosis [Internet]. Cysticfibrosis.org.au. 2016 [cited 24 September 2016]. Available from: http://www.cysticfibrosis.org.au/all/learn/\n",
       "\n",
       "↑ a b Nixon P, Orenstein D, Kelsey S, Doershuk C. The prognostic value of exercise testing in patients with cystic fibrosis [Internet]. Saskatoon Public Library. 2010 [cited 15 September 2016]. Available from: http://saskatoonlibrary.ca/eds/item?dbid=edsgea&an=edsgcl.13305971\n",
       "\n",
       "↑ M. Orenstein D, A. Nixon P, A. Washburn , F. Kelsey S. Measuring Physical Activity in Children with Cystic Fibrosis: Comparison of Four Methods: Paediatric Exercise Science: Vol 5, No 2. Paediatric Exercise Science [Internet]. 2016 [cited 13 September 2016];5(2):125-133. Available from: http://journals.humankinetics.com/doi/pdf/10.1123/pes.5.2.125\n",
       "\n",
       "↑ Gulmans V, de Meer K, Brackel H, Faber J, Berger R, Helders P. Outpatient exercise training in children with cystic fibrosis: Physiological effects, perceived competence, and acceptability. Pediatric Pulmonology [Internet]. 1999 [cited 15 September 2016];28(1):39-46. Available from: http://onlinelibrary.wiley.com/doi/10.1002/(SICI)1099-0496(199907)28:1%3C39::AID-PPUL7%3E3.0.CO;2-8/abstract\n",
       "\n",
       "↑ a b c NIXON P, ORENSTEIN D, KELSEY S. Habitual physical activity in children and adolescents with CF. Medicine and Science in Sports and Exercise [Internet]. 2001 [cited 2 September 2016];33(1):30-35. Available from: http://zh9bf5sp6t.scholar.serialssolutions.com/?sid=google&auinit=PA&aulast=Nixon&atitle=Habitual+physical+activity+in+children+and+adolescents+with+cystic+fibrosis.&id=pmid:1119410\n",
       "\n",
       "↑ Lung Function Tests [Internet]. WebMD. 2016 [cited 14 September 2016]. Available from: http://www.webmd.com/lung/lung-function-tests\n",
       "\n",
       "↑ Charles N. NATIONAL AMBASSADOR FOR CYSTIC FIBROSIS AUSTRALIA [Internet]. Nathan Charles. 2015 [cited 25 September 2016]. Available from: http://nathancharles.com.au/bio/"
      ]
     },
     "execution_count": 19,
     "metadata": {},
     "output_type": "execute_result"
    }
   ],
   "source": [
    "import spacy\n",
    "spacy.cli.download('en_core_web_sm')\n",
    "nlp = spacy.load(\"en_core_web_sm\")\n",
    "wiki_ex = df_wikibooks.iloc[11]['body_text']\n",
    "print(wiki_ex)\n",
    "doc = nlp(wiki_ex)\n",
    "doc "
   ]
  },
  {
   "cell_type": "code",
   "execution_count": 20,
   "metadata": {},
   "outputs": [
    {
     "name": "stdout",
     "output_type": "stream",
     "text": [
      "All entity types that spacy recognised from the document above\n"
     ]
    },
    {
     "data": {
      "text/plain": [
       "{'CARDINAL',\n",
       " 'DATE',\n",
       " 'GPE',\n",
       " 'NORP',\n",
       " 'ORG',\n",
       " 'PERCENT',\n",
       " 'PERSON',\n",
       " 'QUANTITY',\n",
       " 'TIME',\n",
       " 'WORK_OF_ART'}"
      ]
     },
     "execution_count": 20,
     "metadata": {},
     "output_type": "execute_result"
    }
   ],
   "source": [
    "print('All entity types that spacy recognised from the document above')\n",
    "set([ent.label_ for ent in doc.ents])"
   ]
  },
  {
   "cell_type": "markdown",
   "metadata": {},
   "source": [
    "<span style=\"color:red\">Questions:</span> What other labels are available?"
   ]
  },
  {
   "cell_type": "markdown",
   "metadata": {},
   "source": [
    "<span style=\"color:green\">To code:</span> Print out all persons and organizations recognised in the document."
   ]
  },
  {
   "cell_type": "code",
   "execution_count": 23,
   "metadata": {},
   "outputs": [
    {
     "name": "stdout",
     "output_type": "stream",
     "text": [
      "EVENT\n",
      "FAC\n",
      "LANGUAGE\n",
      "LAW\n",
      "LOC\n",
      "MONEY\n",
      "ORDINAL\n",
      "PRODUCT\n"
     ]
    }
   ],
   "source": [
    "# Print out all persons and organisations from the document above\n",
    "nlp = spacy.load(\"en_core_web_sm\")\n",
    "lab = nlp.get_pipe(\"ner\").labels\n",
    "\n",
    "for label in lab:\n",
    "    if label not in set([ent.label_ for ent in doc.ents]):\n",
    "        print(label)\n"
   ]
  },
  {
   "cell_type": "markdown",
   "metadata": {},
   "source": [
    "**Other labels rrecognised by spaCy are listed above.**"
   ]
  },
  {
   "cell_type": "markdown",
   "metadata": {},
   "source": [
    "```spaCy``` also features a very nice visualization tool for NE. The following showcases this tool on a Wikibooks page."
   ]
  },
  {
   "cell_type": "code",
   "execution_count": 24,
   "metadata": {},
   "outputs": [
    {
     "data": {
      "text/html": [
       "<span class=\"tex2jax_ignore\"><div class=\"entities\" style=\"line-height: 2.5; direction: ltr\">This Wikibooks page is a fact sheet and analysis on the article &quot;Habitual physical activity in children and adolescents with cystic fibrosis&quot; about how exercise is related to the disease \n",
       "<mark class=\"entity\" style=\"background: #7aecec; padding: 0.45em 0.6em; margin: 0 0.25em; line-height: 1; border-radius: 0.35em;\">\n",
       "    Cystic Fibrosis\n",
       "    <span style=\"font-size: 0.8em; font-weight: bold; line-height: 1; border-radius: 0.35em; vertical-align: middle; margin-left: 0.5rem\">ORG</span>\n",
       "</mark>\n",
       ".<br><br>Contents<br><br>\n",
       "<mark class=\"entity\" style=\"background: #e4e7d2; padding: 0.45em 0.6em; margin: 0 0.25em; line-height: 1; border-radius: 0.35em;\">\n",
       "    1\n",
       "    <span style=\"font-size: 0.8em; font-weight: bold; line-height: 1; border-radius: 0.35em; vertical-align: middle; margin-left: 0.5rem\">CARDINAL</span>\n",
       "</mark>\n",
       " Background of this research<br>\n",
       "<mark class=\"entity\" style=\"background: #e4e7d2; padding: 0.45em 0.6em; margin: 0 0.25em; line-height: 1; border-radius: 0.35em;\">\n",
       "    2 Where\n",
       "    <span style=\"font-size: 0.8em; font-weight: bold; line-height: 1; border-radius: 0.35em; vertical-align: middle; margin-left: 0.5rem\">CARDINAL</span>\n",
       "</mark>\n",
       " is the research from ?<br>\n",
       "<mark class=\"entity\" style=\"background: #e4e7d2; padding: 0.45em 0.6em; margin: 0 0.25em; line-height: 1; border-radius: 0.35em;\">\n",
       "    3\n",
       "    <span style=\"font-size: 0.8em; font-weight: bold; line-height: 1; border-radius: 0.35em; vertical-align: middle; margin-left: 0.5rem\">CARDINAL</span>\n",
       "</mark>\n",
       " What kind of research was this?<br>\n",
       "<mark class=\"entity\" style=\"background: #e4e7d2; padding: 0.45em 0.6em; margin: 0 0.25em; line-height: 1; border-radius: 0.35em;\">\n",
       "    4\n",
       "    <span style=\"font-size: 0.8em; font-weight: bold; line-height: 1; border-radius: 0.35em; vertical-align: middle; margin-left: 0.5rem\">CARDINAL</span>\n",
       "</mark>\n",
       " What did the research involve?<br><br>\n",
       "<mark class=\"entity\" style=\"background: #e4e7d2; padding: 0.45em 0.6em; margin: 0 0.25em; line-height: 1; border-radius: 0.35em;\">\n",
       "    4.1\n",
       "    <span style=\"font-size: 0.8em; font-weight: bold; line-height: 1; border-radius: 0.35em; vertical-align: middle; margin-left: 0.5rem\">CARDINAL</span>\n",
       "</mark>\n",
       " \n",
       "<mark class=\"entity\" style=\"background: #aa9cfc; padding: 0.45em 0.6em; margin: 0 0.25em; line-height: 1; border-radius: 0.35em;\">\n",
       "    Pulmonary Function\n",
       "    <span style=\"font-size: 0.8em; font-weight: bold; line-height: 1; border-radius: 0.35em; vertical-align: middle; margin-left: 0.5rem\">PERSON</span>\n",
       "</mark>\n",
       " testing<br>\n",
       "<mark class=\"entity\" style=\"background: #e4e7d2; padding: 0.45em 0.6em; margin: 0 0.25em; line-height: 1; border-radius: 0.35em;\">\n",
       "    4.2\n",
       "    <span style=\"font-size: 0.8em; font-weight: bold; line-height: 1; border-radius: 0.35em; vertical-align: middle; margin-left: 0.5rem\">CARDINAL</span>\n",
       "</mark>\n",
       " \n",
       "<mark class=\"entity\" style=\"background: #7aecec; padding: 0.45em 0.6em; margin: 0 0.25em; line-height: 1; border-radius: 0.35em;\">\n",
       "    Pros / Cons\n",
       "    <span style=\"font-size: 0.8em; font-weight: bold; line-height: 1; border-radius: 0.35em; vertical-align: middle; margin-left: 0.5rem\">ORG</span>\n",
       "</mark>\n",
       " of this test<br><br><br>\n",
       "<mark class=\"entity\" style=\"background: #e4e7d2; padding: 0.45em 0.6em; margin: 0 0.25em; line-height: 1; border-radius: 0.35em;\">\n",
       "    5\n",
       "    <span style=\"font-size: 0.8em; font-weight: bold; line-height: 1; border-radius: 0.35em; vertical-align: middle; margin-left: 0.5rem\">CARDINAL</span>\n",
       "</mark>\n",
       " What were the basic results?<br>\n",
       "<mark class=\"entity\" style=\"background: #e4e7d2; padding: 0.45em 0.6em; margin: 0 0.25em; line-height: 1; border-radius: 0.35em;\">\n",
       "    6\n",
       "    <span style=\"font-size: 0.8em; font-weight: bold; line-height: 1; border-radius: 0.35em; vertical-align: middle; margin-left: 0.5rem\">CARDINAL</span>\n",
       "</mark>\n",
       " What conclusion can we take from this research ?<br>\n",
       "<mark class=\"entity\" style=\"background: #7aecec; padding: 0.45em 0.6em; margin: 0 0.25em; line-height: 1; border-radius: 0.35em;\">\n",
       "    7 Practical Advice\n",
       "    <span style=\"font-size: 0.8em; font-weight: bold; line-height: 1; border-radius: 0.35em; vertical-align: middle; margin-left: 0.5rem\">ORG</span>\n",
       "</mark>\n",
       "<br>\n",
       "<mark class=\"entity\" style=\"background: #e4e7d2; padding: 0.45em 0.6em; margin: 0 0.25em; line-height: 1; border-radius: 0.35em;\">\n",
       "    8 Further information/ Resources\n",
       "    <span style=\"font-size: 0.8em; font-weight: bold; line-height: 1; border-radius: 0.35em; vertical-align: middle; margin-left: 0.5rem\">PERCENT</span>\n",
       "</mark>\n",
       "<br><br>\n",
       "<mark class=\"entity\" style=\"background: #e4e7d2; padding: 0.45em 0.6em; margin: 0 0.25em; line-height: 1; border-radius: 0.35em;\">\n",
       "    8.1\n",
       "    <span style=\"font-size: 0.8em; font-weight: bold; line-height: 1; border-radius: 0.35em; vertical-align: middle; margin-left: 0.5rem\">CARDINAL</span>\n",
       "</mark>\n",
       " \n",
       "<mark class=\"entity\" style=\"background: #c887fb; padding: 0.45em 0.6em; margin: 0 0.25em; line-height: 1; border-radius: 0.35em;\">\n",
       "    Cystic\n",
       "    <span style=\"font-size: 0.8em; font-weight: bold; line-height: 1; border-radius: 0.35em; vertical-align: middle; margin-left: 0.5rem\">NORP</span>\n",
       "</mark>\n",
       " Fibrosis \n",
       "<mark class=\"entity\" style=\"background: #feca74; padding: 0.45em 0.6em; margin: 0 0.25em; line-height: 1; border-radius: 0.35em;\">\n",
       "    Australia\n",
       "    <span style=\"font-size: 0.8em; font-weight: bold; line-height: 1; border-radius: 0.35em; vertical-align: middle; margin-left: 0.5rem\">GPE</span>\n",
       "</mark>\n",
       "<br>\n",
       "<mark class=\"entity\" style=\"background: #e4e7d2; padding: 0.45em 0.6em; margin: 0 0.25em; line-height: 1; border-radius: 0.35em;\">\n",
       "    8.2\n",
       "    <span style=\"font-size: 0.8em; font-weight: bold; line-height: 1; border-radius: 0.35em; vertical-align: middle; margin-left: 0.5rem\">CARDINAL</span>\n",
       "</mark>\n",
       " \n",
       "<mark class=\"entity\" style=\"background: #7aecec; padding: 0.45em 0.6em; margin: 0 0.25em; line-height: 1; border-radius: 0.35em;\">\n",
       "    Cystic Fibrosis's\n",
       "    <span style=\"font-size: 0.8em; font-weight: bold; line-height: 1; border-radius: 0.35em; vertical-align: middle; margin-left: 0.5rem\">ORG</span>\n",
       "</mark>\n",
       " National Ambassador \n",
       "<mark class=\"entity\" style=\"background: #aa9cfc; padding: 0.45em 0.6em; margin: 0 0.25em; line-height: 1; border-radius: 0.35em;\">\n",
       "    Nathan Charles\n",
       "    <span style=\"font-size: 0.8em; font-weight: bold; line-height: 1; border-radius: 0.35em; vertical-align: middle; margin-left: 0.5rem\">PERSON</span>\n",
       "</mark>\n",
       "<br><br><br>9 References<br><br><br><br>Background of this research[edit | edit source]<br>The research was about the effects of taking part in exercise constantly or making it a habit in the population of children and teens that are severing from the genetic condition cystic Fibrosis.<br>What is  Cystic Fibrosis<br>It is a genetic condition, affecting lungs and digestion. Unfortunately, there is no cure. The condition \n",
       "<mark class=\"entity\" style=\"background: #7aecec; padding: 0.45em 0.6em; margin: 0 0.25em; line-height: 1; border-radius: 0.35em;\">\n",
       "    Cystic Fibrosis\n",
       "    <span style=\"font-size: 0.8em; font-weight: bold; line-height: 1; border-radius: 0.35em; vertical-align: middle; margin-left: 0.5rem\">ORG</span>\n",
       "</mark>\n",
       " (CF) is mostly inherited in the white population with \n",
       "<mark class=\"entity\" style=\"background: #e4e7d2; padding: 0.45em 0.6em; margin: 0 0.25em; line-height: 1; border-radius: 0.35em;\">\n",
       "    1\n",
       "    <span style=\"font-size: 0.8em; font-weight: bold; line-height: 1; border-radius: 0.35em; vertical-align: middle; margin-left: 0.5rem\">CARDINAL</span>\n",
       "</mark>\n",
       " in every \n",
       "<mark class=\"entity\" style=\"background: #e4e7d2; padding: 0.45em 0.6em; margin: 0 0.25em; line-height: 1; border-radius: 0.35em;\">\n",
       "    3300\n",
       "    <span style=\"font-size: 0.8em; font-weight: bold; line-height: 1; border-radius: 0.35em; vertical-align: middle; margin-left: 0.5rem\">CARDINAL</span>\n",
       "</mark>\n",
       " live births being diagnosed with the condition.[1]<br><br>Where is the research from ?[edit | edit source]<br>This research was based in \n",
       "<mark class=\"entity\" style=\"background: #7aecec; padding: 0.45em 0.6em; margin: 0 0.25em; line-height: 1; border-radius: 0.35em;\">\n",
       "    the American Children’s\n",
       "    <span style=\"font-size: 0.8em; font-weight: bold; line-height: 1; border-radius: 0.35em; vertical-align: middle; margin-left: 0.5rem\">ORG</span>\n",
       "</mark>\n",
       " hospital \n",
       "<mark class=\"entity\" style=\"background: #feca74; padding: 0.45em 0.6em; margin: 0 0.25em; line-height: 1; border-radius: 0.35em;\">\n",
       "    Pittsburgh\n",
       "    <span style=\"font-size: 0.8em; font-weight: bold; line-height: 1; border-radius: 0.35em; vertical-align: middle; margin-left: 0.5rem\">GPE</span>\n",
       "</mark>\n",
       " in the \n",
       "<mark class=\"entity\" style=\"background: #feca74; padding: 0.45em 0.6em; margin: 0 0.25em; line-height: 1; border-radius: 0.35em;\">\n",
       "    CF\n",
       "    <span style=\"font-size: 0.8em; font-weight: bold; line-height: 1; border-radius: 0.35em; vertical-align: middle; margin-left: 0.5rem\">GPE</span>\n",
       "</mark>\n",
       " centre. Volunteers for this research included siblings, friends and hospital employee’s children who did not have the condition. \n",
       "<mark class=\"entity\" style=\"background: #e4e7d2; padding: 0.45em 0.6em; margin: 0 0.25em; line-height: 1; border-radius: 0.35em;\">\n",
       "    Two\n",
       "    <span style=\"font-size: 0.8em; font-weight: bold; line-height: 1; border-radius: 0.35em; vertical-align: middle; margin-left: 0.5rem\">CARDINAL</span>\n",
       "</mark>\n",
       " authors of this research work within the department as paediatrics and others have conducted research regarding children with CF. This included \n",
       "<mark class=\"entity\" style=\"background: #aa9cfc; padding: 0.45em 0.6em; margin: 0 0.25em; line-height: 1; border-radius: 0.35em;\">\n",
       "    David Michael Orenstein\n",
       "    <span style=\"font-size: 0.8em; font-weight: bold; line-height: 1; border-radius: 0.35em; vertical-align: middle; margin-left: 0.5rem\">PERSON</span>\n",
       "</mark>\n",
       " who has many publications on \n",
       "<mark class=\"entity\" style=\"background: #7aecec; padding: 0.45em 0.6em; margin: 0 0.25em; line-height: 1; border-radius: 0.35em;\">\n",
       "    CF\n",
       "    <span style=\"font-size: 0.8em; font-weight: bold; line-height: 1; border-radius: 0.35em; vertical-align: middle; margin-left: 0.5rem\">ORG</span>\n",
       "</mark>\n",
       ". These authors have also conducted other research on children with CF with methods of exercise that can help combat the condition.[2]<br><br>What kind of research was this?[edit | edit source]<br>This was a meta-analysis form of research; even though this kind of research is time consuming the results are valid and reliable. Other studies that have been done have very similar results, regarding the effects of physical activity and the benefits it has on children and adolescents with \n",
       "<mark class=\"entity\" style=\"background: #7aecec; padding: 0.45em 0.6em; margin: 0 0.25em; line-height: 1; border-radius: 0.35em;\">\n",
       "    CF\n",
       "    <span style=\"font-size: 0.8em; font-weight: bold; line-height: 1; border-radius: 0.35em; vertical-align: middle; margin-left: 0.5rem\">ORG</span>\n",
       "</mark>\n",
       ". For an example, a study that was conducted in \n",
       "<mark class=\"entity\" style=\"background: #feca74; padding: 0.45em 0.6em; margin: 0 0.25em; line-height: 1; border-radius: 0.35em;\">\n",
       "    Austria\n",
       "    <span style=\"font-size: 0.8em; font-weight: bold; line-height: 1; border-radius: 0.35em; vertical-align: middle; margin-left: 0.5rem\">GPE</span>\n",
       "</mark>\n",
       " compared the effects of physical activity versus chest physiotherapy which is popular within \n",
       "<mark class=\"entity\" style=\"background: #7aecec; padding: 0.45em 0.6em; margin: 0 0.25em; line-height: 1; border-radius: 0.35em;\">\n",
       "    the CF community.[3] Two\n",
       "    <span style=\"font-size: 0.8em; font-weight: bold; line-height: 1; border-radius: 0.35em; vertical-align: middle; margin-left: 0.5rem\">ORG</span>\n",
       "</mark>\n",
       " of the authors, \n",
       "<mark class=\"entity\" style=\"background: #aa9cfc; padding: 0.45em 0.6em; margin: 0 0.25em; line-height: 1; border-radius: 0.35em;\">\n",
       "    David Michael\n",
       "    <span style=\"font-size: 0.8em; font-weight: bold; line-height: 1; border-radius: 0.35em; vertical-align: middle; margin-left: 0.5rem\">PERSON</span>\n",
       "</mark>\n",
       " and \n",
       "<mark class=\"entity\" style=\"background: #aa9cfc; padding: 0.45em 0.6em; margin: 0 0.25em; line-height: 1; border-radius: 0.35em;\">\n",
       "    Patricia\n",
       "    <span style=\"font-size: 0.8em; font-weight: bold; line-height: 1; border-radius: 0.35em; vertical-align: middle; margin-left: 0.5rem\">PERSON</span>\n",
       "</mark>\n",
       " from the research article have conducted a study of “The prognostic value of exercise testing in patients with CF”.[2] Also, \n",
       "<mark class=\"entity\" style=\"background: #7aecec; padding: 0.45em 0.6em; margin: 0 0.25em; line-height: 1; border-radius: 0.35em;\">\n",
       "    the Journal of Paediatric Pulmonology\n",
       "    <span style=\"font-size: 0.8em; font-weight: bold; line-height: 1; border-radius: 0.35em; vertical-align: middle; margin-left: 0.5rem\">ORG</span>\n",
       "</mark>\n",
       " had similar conclusions that through exercise there is an improvement in oxygen consumption and physical self-efficiency and appearance in patients. As well as, lots of positive changes in living conditions of the patients.[4] Even though the research method used in these \n",
       "<mark class=\"entity\" style=\"background: #e4e7d2; padding: 0.45em 0.6em; margin: 0 0.25em; line-height: 1; border-radius: 0.35em;\">\n",
       "    three\n",
       "    <span style=\"font-size: 0.8em; font-weight: bold; line-height: 1; border-radius: 0.35em; vertical-align: middle; margin-left: 0.5rem\">CARDINAL</span>\n",
       "</mark>\n",
       " studies differ, they all have very similar conclusions that exercise is beneficial for children with CF.<br><br>What did the research involve?[edit | edit source]<br>\n",
       "<mark class=\"entity\" style=\"background: #e4e7d2; padding: 0.45em 0.6em; margin: 0 0.25em; line-height: 1; border-radius: 0.35em;\">\n",
       "    60\n",
       "    <span style=\"font-size: 0.8em; font-weight: bold; line-height: 1; border-radius: 0.35em; vertical-align: middle; margin-left: 0.5rem\">CARDINAL</span>\n",
       "</mark>\n",
       " people in total \n",
       "<mark class=\"entity\" style=\"background: #bfe1d9; padding: 0.45em 0.6em; margin: 0 0.25em; line-height: 1; border-radius: 0.35em;\">\n",
       "    7–17 years\n",
       "    <span style=\"font-size: 0.8em; font-weight: bold; line-height: 1; border-radius: 0.35em; vertical-align: middle; margin-left: 0.5rem\">DATE</span>\n",
       "</mark>\n",
       " of age[5]<br>\n",
       "<mark class=\"entity\" style=\"background: #e4e7d2; padding: 0.45em 0.6em; margin: 0 0.25em; line-height: 1; border-radius: 0.35em;\">\n",
       "    30\n",
       "    <span style=\"font-size: 0.8em; font-weight: bold; line-height: 1; border-radius: 0.35em; vertical-align: middle; margin-left: 0.5rem\">CARDINAL</span>\n",
       "</mark>\n",
       " Patients with cystic fibrosis  (\n",
       "<mark class=\"entity\" style=\"background: #e4e7d2; padding: 0.45em 0.6em; margin: 0 0.25em; line-height: 1; border-radius: 0.35em;\">\n",
       "    18\n",
       "    <span style=\"font-size: 0.8em; font-weight: bold; line-height: 1; border-radius: 0.35em; vertical-align: middle; margin-left: 0.5rem\">CARDINAL</span>\n",
       "</mark>\n",
       " male, \n",
       "<mark class=\"entity\" style=\"background: #e4e7d2; padding: 0.45em 0.6em; margin: 0 0.25em; line-height: 1; border-radius: 0.35em;\">\n",
       "    12\n",
       "    <span style=\"font-size: 0.8em; font-weight: bold; line-height: 1; border-radius: 0.35em; vertical-align: middle; margin-left: 0.5rem\">CARDINAL</span>\n",
       "</mark>\n",
       " female)[5]<br>\n",
       "<mark class=\"entity\" style=\"background: #e4e7d2; padding: 0.45em 0.6em; margin: 0 0.25em; line-height: 1; border-radius: 0.35em;\">\n",
       "    30\n",
       "    <span style=\"font-size: 0.8em; font-weight: bold; line-height: 1; border-radius: 0.35em; vertical-align: middle; margin-left: 0.5rem\">CARDINAL</span>\n",
       "</mark>\n",
       " people in the control not affected (\n",
       "<mark class=\"entity\" style=\"background: #e4e7d2; padding: 0.45em 0.6em; margin: 0 0.25em; line-height: 1; border-radius: 0.35em;\">\n",
       "    17\n",
       "    <span style=\"font-size: 0.8em; font-weight: bold; line-height: 1; border-radius: 0.35em; vertical-align: middle; margin-left: 0.5rem\">CARDINAL</span>\n",
       "</mark>\n",
       " male, \n",
       "<mark class=\"entity\" style=\"background: #e4e7d2; padding: 0.45em 0.6em; margin: 0 0.25em; line-height: 1; border-radius: 0.35em;\">\n",
       "    13 female\n",
       "    <span style=\"font-size: 0.8em; font-weight: bold; line-height: 1; border-radius: 0.35em; vertical-align: middle; margin-left: 0.5rem\">QUANTITY</span>\n",
       "</mark>\n",
       " )[\n",
       "<mark class=\"entity\" style=\"background: #e4e7d2; padding: 0.45em 0.6em; margin: 0 0.25em; line-height: 1; border-radius: 0.35em;\">\n",
       "    5\n",
       "    <span style=\"font-size: 0.8em; font-weight: bold; line-height: 1; border-radius: 0.35em; vertical-align: middle; margin-left: 0.5rem\">CARDINAL</span>\n",
       "</mark>\n",
       "]<br>The participants completed a \n",
       "<mark class=\"entity\" style=\"background: #aa9cfc; padding: 0.45em 0.6em; margin: 0 0.25em; line-height: 1; border-radius: 0.35em;\">\n",
       "    Questionnaire\n",
       "    <span style=\"font-size: 0.8em; font-weight: bold; line-height: 1; border-radius: 0.35em; vertical-align: middle; margin-left: 0.5rem\">PERSON</span>\n",
       "</mark>\n",
       " about their activity levels. Children \n",
       "<mark class=\"entity\" style=\"background: #bfe1d9; padding: 0.45em 0.6em; margin: 0 0.25em; line-height: 1; border-radius: 0.35em;\">\n",
       "    12 years\n",
       "    <span style=\"font-size: 0.8em; font-weight: bold; line-height: 1; border-radius: 0.35em; vertical-align: middle; margin-left: 0.5rem\">DATE</span>\n",
       "</mark>\n",
       " and older completed it with no help or little assistant. Children \n",
       "<mark class=\"entity\" style=\"background: #bfe1d9; padding: 0.45em 0.6em; margin: 0 0.25em; line-height: 1; border-radius: 0.35em;\">\n",
       "    12 years\n",
       "    <span style=\"font-size: 0.8em; font-weight: bold; line-height: 1; border-radius: 0.35em; vertical-align: middle; margin-left: 0.5rem\">DATE</span>\n",
       "</mark>\n",
       " and under did it with a parent or guardian. <br>When getting tested the children did \n",
       "<mark class=\"entity\" style=\"background: #e4e7d2; padding: 0.45em 0.6em; margin: 0 0.25em; line-height: 1; border-radius: 0.35em;\">\n",
       "    2\n",
       "    <span style=\"font-size: 0.8em; font-weight: bold; line-height: 1; border-radius: 0.35em; vertical-align: middle; margin-left: 0.5rem\">CARDINAL</span>\n",
       "</mark>\n",
       " types of tests, a \n",
       "<mark class=\"entity\" style=\"background: #aa9cfc; padding: 0.45em 0.6em; margin: 0 0.25em; line-height: 1; border-radius: 0.35em;\">\n",
       "    Pulmonary Function\n",
       "    <span style=\"font-size: 0.8em; font-weight: bold; line-height: 1; border-radius: 0.35em; vertical-align: middle; margin-left: 0.5rem\">PERSON</span>\n",
       "</mark>\n",
       " test, and an Exercise Test. The level of aerobic fitness was tested by the participant completing a progressive exercise test on a stationary electronic bike (\n",
       "<mark class=\"entity\" style=\"background: #aa9cfc; padding: 0.45em 0.6em; margin: 0 0.25em; line-height: 1; border-radius: 0.35em;\">\n",
       "    cycle ergometer\n",
       "    <span style=\"font-size: 0.8em; font-weight: bold; line-height: 1; border-radius: 0.35em; vertical-align: middle; margin-left: 0.5rem\">PERSON</span>\n",
       "</mark>\n",
       ") using the \n",
       "<mark class=\"entity\" style=\"background: #aa9cfc; padding: 0.45em 0.6em; margin: 0 0.25em; line-height: 1; border-radius: 0.35em;\">\n",
       "    Godfrey\n",
       "    <span style=\"font-size: 0.8em; font-weight: bold; line-height: 1; border-radius: 0.35em; vertical-align: middle; margin-left: 0.5rem\">PERSON</span>\n",
       "</mark>\n",
       " protocol. Oxygen uptake was measured using a cart that you breathed into and then It  analysed the breath content. This was recorded during \n",
       "<mark class=\"entity\" style=\"background: #bfe1d9; padding: 0.45em 0.6em; margin: 0 0.25em; line-height: 1; border-radius: 0.35em;\">\n",
       "    the last 15 seconds\n",
       "    <span style=\"font-size: 0.8em; font-weight: bold; line-height: 1; border-radius: 0.35em; vertical-align: middle; margin-left: 0.5rem\">TIME</span>\n",
       "</mark>\n",
       " of each stage exercise<br><br>Pulmonary Function testing[edit | edit source]<br>\n",
       "<mark class=\"entity\" style=\"background: #aa9cfc; padding: 0.45em 0.6em; margin: 0 0.25em; line-height: 1; border-radius: 0.35em;\">\n",
       "    Pulmonary\n",
       "    <span style=\"font-size: 0.8em; font-weight: bold; line-height: 1; border-radius: 0.35em; vertical-align: middle; margin-left: 0.5rem\">PERSON</span>\n",
       "</mark>\n",
       " function was tested before exercising. Children who have \n",
       "<mark class=\"entity\" style=\"background: #7aecec; padding: 0.45em 0.6em; margin: 0 0.25em; line-height: 1; border-radius: 0.35em;\">\n",
       "    CF\n",
       "    <span style=\"font-size: 0.8em; font-weight: bold; line-height: 1; border-radius: 0.35em; vertical-align: middle; margin-left: 0.5rem\">ORG</span>\n",
       "</mark>\n",
       " had limited experience in doing these tests as they did not have regular exposure to the test due to the condition. A spirometry was used to measure \n",
       "<mark class=\"entity\" style=\"background: #aa9cfc; padding: 0.45em 0.6em; margin: 0 0.25em; line-height: 1; border-radius: 0.35em;\">\n",
       "    pulmonary lung\n",
       "    <span style=\"font-size: 0.8em; font-weight: bold; line-height: 1; border-radius: 0.35em; vertical-align: middle; margin-left: 0.5rem\">PERSON</span>\n",
       "</mark>\n",
       " function capacity. The aim of the test is to measure how much and how quickly an individual is able to move air out of their lungs” ([\n",
       "<mark class=\"entity\" style=\"background: #e4e7d2; padding: 0.45em 0.6em; margin: 0 0.25em; line-height: 1; border-radius: 0.35em;\">\n",
       "    6\n",
       "    <span style=\"font-size: 0.8em; font-weight: bold; line-height: 1; border-radius: 0.35em; vertical-align: middle; margin-left: 0.5rem\">CARDINAL</span>\n",
       "</mark>\n",
       "] this is done by breathing into a mouth piece connected to a device that records the air and it called a spirometer.<br><br>\n",
       "<mark class=\"entity\" style=\"background: #7aecec; padding: 0.45em 0.6em; margin: 0 0.25em; line-height: 1; border-radius: 0.35em;\">\n",
       "    Pros / Cons\n",
       "    <span style=\"font-size: 0.8em; font-weight: bold; line-height: 1; border-radius: 0.35em; vertical-align: middle; margin-left: 0.5rem\">ORG</span>\n",
       "</mark>\n",
       " of this test[edit | edit source]<br>This study was very good for testing but there were disadvantages on the younger population in the study due to being short as they were  unable to reach the pedals. Another limitation of the study is that focus was only on the effects of aerobic training and did not take into account the benefit of anaerobic or resistance training can have on an individual. Also, \n",
       "<mark class=\"entity\" style=\"background: #7aecec; padding: 0.45em 0.6em; margin: 0 0.25em; line-height: 1; border-radius: 0.35em;\">\n",
       "    the Australian Cystic Fibrosis Council\n",
       "    <span style=\"font-size: 0.8em; font-weight: bold; line-height: 1; border-radius: 0.35em; vertical-align: middle; margin-left: 0.5rem\">ORG</span>\n",
       "</mark>\n",
       " suggest that core strength is also an important component of helping with the clearance of mucus for patients[1]<br><br>What were the basic results?[edit | edit source]<br>The survival rate of living with \n",
       "<mark class=\"entity\" style=\"background: #7aecec; padding: 0.45em 0.6em; margin: 0 0.25em; line-height: 1; border-radius: 0.35em;\">\n",
       "    Cystic Fibrosis\n",
       "    <span style=\"font-size: 0.8em; font-weight: bold; line-height: 1; border-radius: 0.35em; vertical-align: middle; margin-left: 0.5rem\">ORG</span>\n",
       "</mark>\n",
       " is affected by the engagement of regulary physical Activity<br>The oxygen consumption improves with exercise.<br>Exercise helps with the removal of mucus<br>\n",
       "<mark class=\"entity\" style=\"background: #f0d0ff; padding: 0.45em 0.6em; margin: 0 0.25em; line-height: 1; border-radius: 0.35em;\">\n",
       "    Children with Cystic Fibrosis\n",
       "    <span style=\"font-size: 0.8em; font-weight: bold; line-height: 1; border-radius: 0.35em; vertical-align: middle; margin-left: 0.5rem\">WORK_OF_ART</span>\n",
       "</mark>\n",
       " participate in less vigorous physical exercise and activities when compared with children not affected by CF<br>What conclusion can we take from this research ?[edit | edit source]<br>In conclusion, this research demonstrates that exercise does have benefit's for children living with \n",
       "<mark class=\"entity\" style=\"background: #7aecec; padding: 0.45em 0.6em; margin: 0 0.25em; line-height: 1; border-radius: 0.35em;\">\n",
       "    CF\n",
       "    <span style=\"font-size: 0.8em; font-weight: bold; line-height: 1; border-radius: 0.35em; vertical-align: middle; margin-left: 0.5rem\">ORG</span>\n",
       "</mark>\n",
       " as it increases the survival rate and increase life expectancy. I believe \n",
       "<mark class=\"entity\" style=\"background: #e4e7d2; padding: 0.45em 0.6em; margin: 0 0.25em; line-height: 1; border-radius: 0.35em;\">\n",
       "    one\n",
       "    <span style=\"font-size: 0.8em; font-weight: bold; line-height: 1; border-radius: 0.35em; vertical-align: middle; margin-left: 0.5rem\">CARDINAL</span>\n",
       "</mark>\n",
       " thing that is important when trying to help treat children with \n",
       "<mark class=\"entity\" style=\"background: #7aecec; padding: 0.45em 0.6em; margin: 0 0.25em; line-height: 1; border-radius: 0.35em;\">\n",
       "    CF\n",
       "    <span style=\"font-size: 0.8em; font-weight: bold; line-height: 1; border-radius: 0.35em; vertical-align: middle; margin-left: 0.5rem\">ORG</span>\n",
       "</mark>\n",
       " is to treat them normally and allowing them to engage in the activity as their peers are doing, within reason.<br><br>Practical Advice[edit | edit source]<br>Before trying to treat \n",
       "<mark class=\"entity\" style=\"background: #7aecec; padding: 0.45em 0.6em; margin: 0 0.25em; line-height: 1; border-radius: 0.35em;\">\n",
       "    CF\n",
       "    <span style=\"font-size: 0.8em; font-weight: bold; line-height: 1; border-radius: 0.35em; vertical-align: middle; margin-left: 0.5rem\">ORG</span>\n",
       "</mark>\n",
       " with exercise consult Doctors about the type of exercise and don’t push yourself too hard. Build up the intensity.<br><br>Further information/ Resources[edit | edit source]<br>\n",
       "<mark class=\"entity\" style=\"background: #7aecec; padding: 0.45em 0.6em; margin: 0 0.25em; line-height: 1; border-radius: 0.35em;\">\n",
       "    Cystic Fibrosis\n",
       "    <span style=\"font-size: 0.8em; font-weight: bold; line-height: 1; border-radius: 0.35em; vertical-align: middle; margin-left: 0.5rem\">ORG</span>\n",
       "</mark>\n",
       " Australia[edit | edit source]<br>\n",
       "<mark class=\"entity\" style=\"background: #7aecec; padding: 0.45em 0.6em; margin: 0 0.25em; line-height: 1; border-radius: 0.35em;\">\n",
       "    Cystic Fibrosis\n",
       "    <span style=\"font-size: 0.8em; font-weight: bold; line-height: 1; border-radius: 0.35em; vertical-align: middle; margin-left: 0.5rem\">ORG</span>\n",
       "</mark>\n",
       " Australia even suggests that exercise is an important component of treating cystic fibrosis as it help with clearing the airways and building core strength.[1]<br>Web Page: http://www.cysticfibrosis.org.au<br><br>\n",
       "<mark class=\"entity\" style=\"background: #7aecec; padding: 0.45em 0.6em; margin: 0 0.25em; line-height: 1; border-radius: 0.35em;\">\n",
       "    Cystic Fibrosis's\n",
       "    <span style=\"font-size: 0.8em; font-weight: bold; line-height: 1; border-radius: 0.35em; vertical-align: middle; margin-left: 0.5rem\">ORG</span>\n",
       "</mark>\n",
       " National Ambassador Nathan Charles[edit | edit source]<br>\n",
       "<mark class=\"entity\" style=\"background: #7aecec; padding: 0.45em 0.6em; margin: 0 0.25em; line-height: 1; border-radius: 0.35em;\">\n",
       "    Cystic Fibrosis's\n",
       "    <span style=\"font-size: 0.8em; font-weight: bold; line-height: 1; border-radius: 0.35em; vertical-align: middle; margin-left: 0.5rem\">ORG</span>\n",
       "</mark>\n",
       " National Ambassador \n",
       "<mark class=\"entity\" style=\"background: #aa9cfc; padding: 0.45em 0.6em; margin: 0 0.25em; line-height: 1; border-radius: 0.35em;\">\n",
       "    Nathan Charles\n",
       "    <span style=\"font-size: 0.8em; font-weight: bold; line-height: 1; border-radius: 0.35em; vertical-align: middle; margin-left: 0.5rem\">PERSON</span>\n",
       "</mark>\n",
       " an elite rugby union player playing a contact sport while living with the condition cystic fibrosis. Shows that it is possible to stay fit and achieve great success with cystic fibrosis.[7]<br>\n",
       "<mark class=\"entity\" style=\"background: #aa9cfc; padding: 0.45em 0.6em; margin: 0 0.25em; line-height: 1; border-radius: 0.35em;\">\n",
       "    Nathan Charles\n",
       "    <span style=\"font-size: 0.8em; font-weight: bold; line-height: 1; border-radius: 0.35em; vertical-align: middle; margin-left: 0.5rem\">PERSON</span>\n",
       "</mark>\n",
       " Web page http://nathancharles.com.au<br>\n",
       "<mark class=\"entity\" style=\"background: #7aecec; padding: 0.45em 0.6em; margin: 0 0.25em; line-height: 1; border-radius: 0.35em;\">\n",
       "    Playing Elite Rugby\n",
       "    <span style=\"font-size: 0.8em; font-weight: bold; line-height: 1; border-radius: 0.35em; vertical-align: middle; margin-left: 0.5rem\">ORG</span>\n",
       "</mark>\n",
       " with CF:  http://nathancharles.com.au/nutri-grain-unstoppable/<br><br>References[edit | edit source]<br><br><br>↑ a b c Cystic Fibrosis [Internet]. Cysticfibrosis.org.au. \n",
       "<mark class=\"entity\" style=\"background: #bfe1d9; padding: 0.45em 0.6em; margin: 0 0.25em; line-height: 1; border-radius: 0.35em;\">\n",
       "    2016\n",
       "    <span style=\"font-size: 0.8em; font-weight: bold; line-height: 1; border-radius: 0.35em; vertical-align: middle; margin-left: 0.5rem\">DATE</span>\n",
       "</mark>\n",
       " [cited \n",
       "<mark class=\"entity\" style=\"background: #bfe1d9; padding: 0.45em 0.6em; margin: 0 0.25em; line-height: 1; border-radius: 0.35em;\">\n",
       "    24 September 2016\n",
       "    <span style=\"font-size: 0.8em; font-weight: bold; line-height: 1; border-radius: 0.35em; vertical-align: middle; margin-left: 0.5rem\">DATE</span>\n",
       "</mark>\n",
       "]. Available from: http://www.cysticfibrosis.org.au/all/learn/<br><br>↑ a b Nixon P, Orenstein D, \n",
       "<mark class=\"entity\" style=\"background: #aa9cfc; padding: 0.45em 0.6em; margin: 0 0.25em; line-height: 1; border-radius: 0.35em;\">\n",
       "    Kelsey S\n",
       "    <span style=\"font-size: 0.8em; font-weight: bold; line-height: 1; border-radius: 0.35em; vertical-align: middle; margin-left: 0.5rem\">PERSON</span>\n",
       "</mark>\n",
       ", \n",
       "<mark class=\"entity\" style=\"background: #aa9cfc; padding: 0.45em 0.6em; margin: 0 0.25em; line-height: 1; border-radius: 0.35em;\">\n",
       "    Doershuk C.\n",
       "    <span style=\"font-size: 0.8em; font-weight: bold; line-height: 1; border-radius: 0.35em; vertical-align: middle; margin-left: 0.5rem\">PERSON</span>\n",
       "</mark>\n",
       " The prognostic value of exercise testing in patients with cystic fibrosis [Internet]. \n",
       "<mark class=\"entity\" style=\"background: #7aecec; padding: 0.45em 0.6em; margin: 0 0.25em; line-height: 1; border-radius: 0.35em;\">\n",
       "    Saskatoon Public Library\n",
       "    <span style=\"font-size: 0.8em; font-weight: bold; line-height: 1; border-radius: 0.35em; vertical-align: middle; margin-left: 0.5rem\">ORG</span>\n",
       "</mark>\n",
       ". \n",
       "<mark class=\"entity\" style=\"background: #bfe1d9; padding: 0.45em 0.6em; margin: 0 0.25em; line-height: 1; border-radius: 0.35em;\">\n",
       "    2010\n",
       "    <span style=\"font-size: 0.8em; font-weight: bold; line-height: 1; border-radius: 0.35em; vertical-align: middle; margin-left: 0.5rem\">DATE</span>\n",
       "</mark>\n",
       " [cited \n",
       "<mark class=\"entity\" style=\"background: #bfe1d9; padding: 0.45em 0.6em; margin: 0 0.25em; line-height: 1; border-radius: 0.35em;\">\n",
       "    15 September 2016\n",
       "    <span style=\"font-size: 0.8em; font-weight: bold; line-height: 1; border-radius: 0.35em; vertical-align: middle; margin-left: 0.5rem\">DATE</span>\n",
       "</mark>\n",
       "]. Available from: http://saskatoonlibrary.ca/eds/item?dbid=edsgea&amp;an=edsgcl.13305971<br><br>\n",
       "<mark class=\"entity\" style=\"background: #aa9cfc; padding: 0.45em 0.6em; margin: 0 0.25em; line-height: 1; border-radius: 0.35em;\">\n",
       "    ↑ M. Orenstein\n",
       "    <span style=\"font-size: 0.8em; font-weight: bold; line-height: 1; border-radius: 0.35em; vertical-align: middle; margin-left: 0.5rem\">PERSON</span>\n",
       "</mark>\n",
       " D, A. Nixon P, A. Washburn , \n",
       "<mark class=\"entity\" style=\"background: #aa9cfc; padding: 0.45em 0.6em; margin: 0 0.25em; line-height: 1; border-radius: 0.35em;\">\n",
       "    F. Kelsey S. Measuring Physical Activity\n",
       "    <span style=\"font-size: 0.8em; font-weight: bold; line-height: 1; border-radius: 0.35em; vertical-align: middle; margin-left: 0.5rem\">PERSON</span>\n",
       "</mark>\n",
       " in Children with Cystic Fibrosis: Comparison of Four Methods: Paediatric Exercise Science: Vol 5, No 2. Paediatric Exercise Science [Internet]. \n",
       "<mark class=\"entity\" style=\"background: #bfe1d9; padding: 0.45em 0.6em; margin: 0 0.25em; line-height: 1; border-radius: 0.35em;\">\n",
       "    2016\n",
       "    <span style=\"font-size: 0.8em; font-weight: bold; line-height: 1; border-radius: 0.35em; vertical-align: middle; margin-left: 0.5rem\">DATE</span>\n",
       "</mark>\n",
       " [cited \n",
       "<mark class=\"entity\" style=\"background: #e4e7d2; padding: 0.45em 0.6em; margin: 0 0.25em; line-height: 1; border-radius: 0.35em;\">\n",
       "    13\n",
       "    <span style=\"font-size: 0.8em; font-weight: bold; line-height: 1; border-radius: 0.35em; vertical-align: middle; margin-left: 0.5rem\">CARDINAL</span>\n",
       "</mark>\n",
       " \n",
       "<mark class=\"entity\" style=\"background: #bfe1d9; padding: 0.45em 0.6em; margin: 0 0.25em; line-height: 1; border-radius: 0.35em;\">\n",
       "    September\n",
       "    <span style=\"font-size: 0.8em; font-weight: bold; line-height: 1; border-radius: 0.35em; vertical-align: middle; margin-left: 0.5rem\">DATE</span>\n",
       "</mark>\n",
       " \n",
       "<mark class=\"entity\" style=\"background: #e4e7d2; padding: 0.45em 0.6em; margin: 0 0.25em; line-height: 1; border-radius: 0.35em;\">\n",
       "    2016];5(2):125-133\n",
       "    <span style=\"font-size: 0.8em; font-weight: bold; line-height: 1; border-radius: 0.35em; vertical-align: middle; margin-left: 0.5rem\">CARDINAL</span>\n",
       "</mark>\n",
       ". Available from: http://journals.humankinetics.com/doi/pdf/10.1123/pes.5.2.125<br><br>\n",
       "<mark class=\"entity\" style=\"background: #aa9cfc; padding: 0.45em 0.6em; margin: 0 0.25em; line-height: 1; border-radius: 0.35em;\">\n",
       "    ↑ Gulmans V\n",
       "    <span style=\"font-size: 0.8em; font-weight: bold; line-height: 1; border-radius: 0.35em; vertical-align: middle; margin-left: 0.5rem\">PERSON</span>\n",
       "</mark>\n",
       ", de Meer K, \n",
       "<mark class=\"entity\" style=\"background: #7aecec; padding: 0.45em 0.6em; margin: 0 0.25em; line-height: 1; border-radius: 0.35em;\">\n",
       "    Brackel H\n",
       "    <span style=\"font-size: 0.8em; font-weight: bold; line-height: 1; border-radius: 0.35em; vertical-align: middle; margin-left: 0.5rem\">ORG</span>\n",
       "</mark>\n",
       ", \n",
       "<mark class=\"entity\" style=\"background: #aa9cfc; padding: 0.45em 0.6em; margin: 0 0.25em; line-height: 1; border-radius: 0.35em;\">\n",
       "    Faber J\n",
       "    <span style=\"font-size: 0.8em; font-weight: bold; line-height: 1; border-radius: 0.35em; vertical-align: middle; margin-left: 0.5rem\">PERSON</span>\n",
       "</mark>\n",
       ", \n",
       "<mark class=\"entity\" style=\"background: #aa9cfc; padding: 0.45em 0.6em; margin: 0 0.25em; line-height: 1; border-radius: 0.35em;\">\n",
       "    Berger R\n",
       "    <span style=\"font-size: 0.8em; font-weight: bold; line-height: 1; border-radius: 0.35em; vertical-align: middle; margin-left: 0.5rem\">PERSON</span>\n",
       "</mark>\n",
       ", \n",
       "<mark class=\"entity\" style=\"background: #7aecec; padding: 0.45em 0.6em; margin: 0 0.25em; line-height: 1; border-radius: 0.35em;\">\n",
       "    Helders P. Outpatient\n",
       "    <span style=\"font-size: 0.8em; font-weight: bold; line-height: 1; border-radius: 0.35em; vertical-align: middle; margin-left: 0.5rem\">ORG</span>\n",
       "</mark>\n",
       " exercise training in children with cystic fibrosis: Physiological effects, perceived competence, and acceptability. Pediatric Pulmonology [Internet]. \n",
       "<mark class=\"entity\" style=\"background: #bfe1d9; padding: 0.45em 0.6em; margin: 0 0.25em; line-height: 1; border-radius: 0.35em;\">\n",
       "    1999\n",
       "    <span style=\"font-size: 0.8em; font-weight: bold; line-height: 1; border-radius: 0.35em; vertical-align: middle; margin-left: 0.5rem\">DATE</span>\n",
       "</mark>\n",
       " [cited \n",
       "<mark class=\"entity\" style=\"background: #e4e7d2; padding: 0.45em 0.6em; margin: 0 0.25em; line-height: 1; border-radius: 0.35em;\">\n",
       "    15\n",
       "    <span style=\"font-size: 0.8em; font-weight: bold; line-height: 1; border-radius: 0.35em; vertical-align: middle; margin-left: 0.5rem\">CARDINAL</span>\n",
       "</mark>\n",
       " \n",
       "<mark class=\"entity\" style=\"background: #bfe1d9; padding: 0.45em 0.6em; margin: 0 0.25em; line-height: 1; border-radius: 0.35em;\">\n",
       "    September\n",
       "    <span style=\"font-size: 0.8em; font-weight: bold; line-height: 1; border-radius: 0.35em; vertical-align: middle; margin-left: 0.5rem\">DATE</span>\n",
       "</mark>\n",
       " \n",
       "<mark class=\"entity\" style=\"background: #e4e7d2; padding: 0.45em 0.6em; margin: 0 0.25em; line-height: 1; border-radius: 0.35em;\">\n",
       "    2016];28(1):39-46\n",
       "    <span style=\"font-size: 0.8em; font-weight: bold; line-height: 1; border-radius: 0.35em; vertical-align: middle; margin-left: 0.5rem\">CARDINAL</span>\n",
       "</mark>\n",
       ". Available from: http://onlinelibrary.wiley.com/doi/10.1002/(SICI)1099-0496(199907)28:1%3C39::AID-PPUL7%3E3.0.CO;2-8/abstract<br><br>↑ a b c \n",
       "<mark class=\"entity\" style=\"background: #7aecec; padding: 0.45em 0.6em; margin: 0 0.25em; line-height: 1; border-radius: 0.35em;\">\n",
       "    NIXON P\n",
       "    <span style=\"font-size: 0.8em; font-weight: bold; line-height: 1; border-radius: 0.35em; vertical-align: middle; margin-left: 0.5rem\">ORG</span>\n",
       "</mark>\n",
       ", ORENSTEIN D, \n",
       "<mark class=\"entity\" style=\"background: #c887fb; padding: 0.45em 0.6em; margin: 0 0.25em; line-height: 1; border-radius: 0.35em;\">\n",
       "    KELSEY\n",
       "    <span style=\"font-size: 0.8em; font-weight: bold; line-height: 1; border-radius: 0.35em; vertical-align: middle; margin-left: 0.5rem\">NORP</span>\n",
       "</mark>\n",
       " S. Habitual physical activity in children and adolescents with \n",
       "<mark class=\"entity\" style=\"background: #7aecec; padding: 0.45em 0.6em; margin: 0 0.25em; line-height: 1; border-radius: 0.35em;\">\n",
       "    CF.\n",
       "    <span style=\"font-size: 0.8em; font-weight: bold; line-height: 1; border-radius: 0.35em; vertical-align: middle; margin-left: 0.5rem\">ORG</span>\n",
       "</mark>\n",
       " Medicine and Science in Sports and Exercise [Internet]. \n",
       "<mark class=\"entity\" style=\"background: #bfe1d9; padding: 0.45em 0.6em; margin: 0 0.25em; line-height: 1; border-radius: 0.35em;\">\n",
       "    2001\n",
       "    <span style=\"font-size: 0.8em; font-weight: bold; line-height: 1; border-radius: 0.35em; vertical-align: middle; margin-left: 0.5rem\">DATE</span>\n",
       "</mark>\n",
       " [cited \n",
       "<mark class=\"entity\" style=\"background: #e4e7d2; padding: 0.45em 0.6em; margin: 0 0.25em; line-height: 1; border-radius: 0.35em;\">\n",
       "    2\n",
       "    <span style=\"font-size: 0.8em; font-weight: bold; line-height: 1; border-radius: 0.35em; vertical-align: middle; margin-left: 0.5rem\">CARDINAL</span>\n",
       "</mark>\n",
       " \n",
       "<mark class=\"entity\" style=\"background: #bfe1d9; padding: 0.45em 0.6em; margin: 0 0.25em; line-height: 1; border-radius: 0.35em;\">\n",
       "    September\n",
       "    <span style=\"font-size: 0.8em; font-weight: bold; line-height: 1; border-radius: 0.35em; vertical-align: middle; margin-left: 0.5rem\">DATE</span>\n",
       "</mark>\n",
       " \n",
       "<mark class=\"entity\" style=\"background: #e4e7d2; padding: 0.45em 0.6em; margin: 0 0.25em; line-height: 1; border-radius: 0.35em;\">\n",
       "    2016];33(1):30-35\n",
       "    <span style=\"font-size: 0.8em; font-weight: bold; line-height: 1; border-radius: 0.35em; vertical-align: middle; margin-left: 0.5rem\">CARDINAL</span>\n",
       "</mark>\n",
       ". Available from: \n",
       "<mark class=\"entity\" style=\"background: #feca74; padding: 0.45em 0.6em; margin: 0 0.25em; line-height: 1; border-radius: 0.35em;\">\n",
       "    http://zh9bf5sp6t.scholar.serialssolutions.com/?sid=google&amp;auinit=PA&amp;aulast=Nixon&amp;atitle=Habitual+physical+activity+in+children+and+adolescents+with+cystic+fibrosis.&amp;id=pmid:1119410\n",
       "    <span style=\"font-size: 0.8em; font-weight: bold; line-height: 1; border-radius: 0.35em; vertical-align: middle; margin-left: 0.5rem\">GPE</span>\n",
       "</mark>\n",
       "<br><br>↑ Lung Function Tests [Internet]. WebMD. \n",
       "<mark class=\"entity\" style=\"background: #bfe1d9; padding: 0.45em 0.6em; margin: 0 0.25em; line-height: 1; border-radius: 0.35em;\">\n",
       "    2016\n",
       "    <span style=\"font-size: 0.8em; font-weight: bold; line-height: 1; border-radius: 0.35em; vertical-align: middle; margin-left: 0.5rem\">DATE</span>\n",
       "</mark>\n",
       " [cited \n",
       "<mark class=\"entity\" style=\"background: #bfe1d9; padding: 0.45em 0.6em; margin: 0 0.25em; line-height: 1; border-radius: 0.35em;\">\n",
       "    14 September 2016\n",
       "    <span style=\"font-size: 0.8em; font-weight: bold; line-height: 1; border-radius: 0.35em; vertical-align: middle; margin-left: 0.5rem\">DATE</span>\n",
       "</mark>\n",
       "]. Available from: http://www.webmd.com/lung/lung-function-tests<br><br>\n",
       "<mark class=\"entity\" style=\"background: #aa9cfc; padding: 0.45em 0.6em; margin: 0 0.25em; line-height: 1; border-radius: 0.35em;\">\n",
       "    ↑ Charles N. NATIONAL\n",
       "    <span style=\"font-size: 0.8em; font-weight: bold; line-height: 1; border-radius: 0.35em; vertical-align: middle; margin-left: 0.5rem\">PERSON</span>\n",
       "</mark>\n",
       " AMBASSADOR FOR \n",
       "<mark class=\"entity\" style=\"background: #7aecec; padding: 0.45em 0.6em; margin: 0 0.25em; line-height: 1; border-radius: 0.35em;\">\n",
       "    CYSTIC FIBROSIS AUSTRALIA\n",
       "    <span style=\"font-size: 0.8em; font-weight: bold; line-height: 1; border-radius: 0.35em; vertical-align: middle; margin-left: 0.5rem\">ORG</span>\n",
       "</mark>\n",
       " [Internet]. \n",
       "<mark class=\"entity\" style=\"background: #aa9cfc; padding: 0.45em 0.6em; margin: 0 0.25em; line-height: 1; border-radius: 0.35em;\">\n",
       "    Nathan Charles\n",
       "    <span style=\"font-size: 0.8em; font-weight: bold; line-height: 1; border-radius: 0.35em; vertical-align: middle; margin-left: 0.5rem\">PERSON</span>\n",
       "</mark>\n",
       ". \n",
       "<mark class=\"entity\" style=\"background: #bfe1d9; padding: 0.45em 0.6em; margin: 0 0.25em; line-height: 1; border-radius: 0.35em;\">\n",
       "    2015\n",
       "    <span style=\"font-size: 0.8em; font-weight: bold; line-height: 1; border-radius: 0.35em; vertical-align: middle; margin-left: 0.5rem\">DATE</span>\n",
       "</mark>\n",
       " [cited \n",
       "<mark class=\"entity\" style=\"background: #e4e7d2; padding: 0.45em 0.6em; margin: 0 0.25em; line-height: 1; border-radius: 0.35em;\">\n",
       "    25\n",
       "    <span style=\"font-size: 0.8em; font-weight: bold; line-height: 1; border-radius: 0.35em; vertical-align: middle; margin-left: 0.5rem\">CARDINAL</span>\n",
       "</mark>\n",
       " September 2016]. Available from: http://nathancharles.com.au/bio/</div></span>"
      ],
      "text/plain": [
       "<IPython.core.display.HTML object>"
      ]
     },
     "metadata": {},
     "output_type": "display_data"
    }
   ],
   "source": [
    "from spacy import displacy\n",
    "displacy.render(doc, style=\"ent\", jupyter=True)"
   ]
  },
  {
   "cell_type": "markdown",
   "metadata": {},
   "source": [
    "<span style=\"color:red\">Questions:</span> Can you see problems in this annotation? What adaptations would you suggest?"
   ]
  },
  {
   "cell_type": "markdown",
   "metadata": {},
   "source": [
    "**Un même terme peut être annoté de plusieurs façons différentes. Il faudrait peut-être choisir une seule annotation par terme. (CF classé dans ORG et dans GPE).**"
   ]
  },
  {
   "cell_type": "markdown",
   "metadata": {},
   "source": [
    "### Comparing accuracies with a pre-trained model\n",
    "\n",
    "We will now use a pre-trained BERT-based model from the ```transformers``` library. Assuming we use the model as is, and do not do any fine-tuning, we can use the high-level interface from the library, ```pipeline```.\n",
    "First, let's look at the model and the tags it uses. "
   ]
  },
  {
   "cell_type": "code",
   "execution_count": 25,
   "metadata": {},
   "outputs": [
    {
     "name": "stderr",
     "output_type": "stream",
     "text": [
      "c:\\Users\\matsa\\AppData\\Local\\Programs\\Python\\Python311\\Lib\\site-packages\\transformers\\utils\\generic.py:441: UserWarning: torch.utils._pytree._register_pytree_node is deprecated. Please use torch.utils._pytree.register_pytree_node instead.\n",
      "  _torch_pytree._register_pytree_node(\n"
     ]
    },
    {
     "data": {
      "application/vnd.jupyter.widget-view+json": {
       "model_id": "fb90fa10e3764680a3a78c7192389955",
       "version_major": 2,
       "version_minor": 0
      },
      "text/plain": [
       "tokenizer_config.json:   0%|          | 0.00/59.0 [00:00<?, ?B/s]"
      ]
     },
     "metadata": {},
     "output_type": "display_data"
    },
    {
     "data": {
      "application/vnd.jupyter.widget-view+json": {
       "model_id": "9742202d13434a50ab973bce3c548630",
       "version_major": 2,
       "version_minor": 0
      },
      "text/plain": [
       "config.json:   0%|          | 0.00/829 [00:00<?, ?B/s]"
      ]
     },
     "metadata": {},
     "output_type": "display_data"
    },
    {
     "data": {
      "application/vnd.jupyter.widget-view+json": {
       "model_id": "427fa45bac8f4425b7202c994f1251e1",
       "version_major": 2,
       "version_minor": 0
      },
      "text/plain": [
       "vocab.txt:   0%|          | 0.00/213k [00:00<?, ?B/s]"
      ]
     },
     "metadata": {},
     "output_type": "display_data"
    },
    {
     "data": {
      "application/vnd.jupyter.widget-view+json": {
       "model_id": "a44a8dadcbd74c989ad0f724937363b3",
       "version_major": 2,
       "version_minor": 0
      },
      "text/plain": [
       "added_tokens.json:   0%|          | 0.00/2.00 [00:00<?, ?B/s]"
      ]
     },
     "metadata": {},
     "output_type": "display_data"
    },
    {
     "data": {
      "application/vnd.jupyter.widget-view+json": {
       "model_id": "8f30573d79b949c588b9d9d4fce2b8bc",
       "version_major": 2,
       "version_minor": 0
      },
      "text/plain": [
       "special_tokens_map.json:   0%|          | 0.00/112 [00:00<?, ?B/s]"
      ]
     },
     "metadata": {},
     "output_type": "display_data"
    },
    {
     "name": "stderr",
     "output_type": "stream",
     "text": [
      "c:\\Users\\matsa\\AppData\\Local\\Programs\\Python\\Python311\\Lib\\site-packages\\transformers\\utils\\generic.py:309: UserWarning: torch.utils._pytree._register_pytree_node is deprecated. Please use torch.utils._pytree.register_pytree_node instead.\n",
      "  _torch_pytree._register_pytree_node(\n",
      "c:\\Users\\matsa\\AppData\\Local\\Programs\\Python\\Python311\\Lib\\site-packages\\transformers\\utils\\generic.py:309: UserWarning: torch.utils._pytree._register_pytree_node is deprecated. Please use torch.utils._pytree.register_pytree_node instead.\n",
      "  _torch_pytree._register_pytree_node(\n"
     ]
    },
    {
     "data": {
      "application/vnd.jupyter.widget-view+json": {
       "model_id": "ce5ee85da463428bac3f5d529228f738",
       "version_major": 2,
       "version_minor": 0
      },
      "text/plain": [
       "model.safetensors:   0%|          | 0.00/433M [00:00<?, ?B/s]"
      ]
     },
     "metadata": {},
     "output_type": "display_data"
    },
    {
     "name": "stderr",
     "output_type": "stream",
     "text": [
      "Some weights of the model checkpoint at dslim/bert-base-NER were not used when initializing BertForTokenClassification: ['bert.pooler.dense.weight', 'bert.pooler.dense.bias']\n",
      "- This IS expected if you are initializing BertForTokenClassification from the checkpoint of a model trained on another task or with another architecture (e.g. initializing a BertForSequenceClassification model from a BertForPreTraining model).\n",
      "- This IS NOT expected if you are initializing BertForTokenClassification from the checkpoint of a model that you expect to be exactly identical (initializing a BertForSequenceClassification model from a BertForSequenceClassification model).\n"
     ]
    },
    {
     "name": "stdout",
     "output_type": "stream",
     "text": [
      "Entities from the pretrained model\n",
      "{0: 'O', 1: 'B-MISC', 2: 'I-MISC', 3: 'B-PER', 4: 'I-PER', 5: 'B-ORG', 6: 'I-ORG', 7: 'B-LOC', 8: 'I-LOC'}\n"
     ]
    }
   ],
   "source": [
    "from transformers import AutoModelForTokenClassification, AutoTokenizer\n",
    "\n",
    "tokenizer = AutoTokenizer.from_pretrained(\"dslim/bert-base-NER\")\n",
    "model = AutoModelForTokenClassification.from_pretrained(\"dslim/bert-base-NER\")\n",
    "print('Entities from the pretrained model')\n",
    "print(model.config.id2label)"
   ]
  },
  {
   "cell_type": "markdown",
   "metadata": {},
   "source": [
    "Now, let's look at one last dataset. It contains **reference tags** for every word in the sentences. However, the tagset is not exactly the same - we will need to use a mapping. For simplicity, we will only look at the *Location* tags in what follows ! "
   ]
  },
  {
   "cell_type": "code",
   "execution_count": 26,
   "metadata": {},
   "outputs": [],
   "source": [
    "# Let's re-format the dataset for convenience\n",
    "df = pd.read_csv('./entity-annotated-corpus/ner_dataset.csv', encoding='unicode_escape')\n",
    "df['Sentence #'] = df['Sentence #'].ffill()\n",
    "# Grouping sentences together into one sentence by row, for words, pos, tags\n",
    "df_gr = df.groupby('Sentence #').agg(lambda x: list(x))\n",
    "# Just renaming indexes\n",
    "df_gr.index  = [int(s[9:]) for s in df_gr.index]"
   ]
  },
  {
   "cell_type": "code",
   "execution_count": 27,
   "metadata": {},
   "outputs": [
    {
     "name": "stdout",
     "output_type": "stream",
     "text": [
      "Entities in our data set\n",
      "{'B-tim', 'I-tim', 'I-art', 'B-art', 'I-nat', 'B-gpe', 'B-per', 'I-org', 'I-gpe', 'O', 'I-geo', 'I-eve', 'B-nat', 'I-per', 'B-eve', 'B-geo', 'B-org'}\n"
     ]
    }
   ],
   "source": [
    "# What's the tagset ? \n",
    "tags = []\n",
    "for tag in df_gr['Tag'].to_list():\n",
    "    tags.extend(tag)\n",
    "print('Entities in our data set')\n",
    "print(set(tags))"
   ]
  },
  {
   "cell_type": "markdown",
   "metadata": {},
   "source": [
    "<span style=\"color:red\">Questions:</span> What is the tagset used in the previous cell?"
   ]
  },
  {
   "cell_type": "markdown",
   "metadata": {},
   "source": [
    "**Le tagset associé aux étiquettes NER suit le schéma BIO**"
   ]
  },
  {
   "cell_type": "code",
   "execution_count": 33,
   "metadata": {},
   "outputs": [
    {
     "name": "stderr",
     "output_type": "stream",
     "text": [
      "Some weights of the model checkpoint at dslim/bert-base-NER were not used when initializing BertForTokenClassification: ['bert.pooler.dense.weight', 'bert.pooler.dense.bias']\n",
      "- This IS expected if you are initializing BertForTokenClassification from the checkpoint of a model trained on another task or with another architecture (e.g. initializing a BertForSequenceClassification model from a BertForPreTraining model).\n",
      "- This IS NOT expected if you are initializing BertForTokenClassification from the checkpoint of a model that you expect to be exactly identical (initializing a BertForSequenceClassification model from a BertForSequenceClassification model).\n"
     ]
    },
    {
     "name": "stdout",
     "output_type": "stream",
     "text": [
      "Output from the pipeline containing the BERT-based model:\n",
      "[[], [], [], [], [], [], [{'entity_group': 'LOC', 'score': 0.9994006, 'word': 'London', 'start': 0, 'end': 6}], [], [], [], [], [], [{'entity_group': 'LOC', 'score': 0.99984574, 'word': 'Iraq', 'start': 0, 'end': 4}], [], [], [], [], [], [{'entity_group': 'MISC', 'score': 0.9996024, 'word': 'British', 'start': 0, 'end': 7}], [], [], [], [], []]\n",
      "Reference tag list\n",
      "['O', 'O', 'O', 'O', 'O', 'O', 'B-geo', 'O', 'O', 'O', 'O', 'O', 'B-geo', 'O', 'O', 'O', 'O', 'O', 'B-gpe', 'O', 'O', 'O', 'O', 'O']\n"
     ]
    }
   ],
   "source": [
    "# Let's look at an example ! \n",
    "from transformers import pipeline\n",
    "example = df_gr.loc[1]['Word']\n",
    "example_tag = df_gr.loc[1]['Tag']\n",
    "NER_model = pipeline(\"ner\",\n",
    "                     model=\"dslim/bert-base-NER\",\n",
    "                     grouped_entities=True)\n",
    "print(\"Output from the pipeline containing the BERT-based model:\")\n",
    "ner_output = NER_model(example)\n",
    "print(ner_output)\n",
    "print(\"Reference tag list\")\n",
    "print(example_tag)"
   ]
  },
  {
   "cell_type": "markdown",
   "metadata": {},
   "source": []
  },
  {
   "cell_type": "markdown",
   "metadata": {},
   "source": [
    "<span style=\"color:green\">To code:</span> Assuming the following mapping between the tags from the dataset and those output by the BERT model:\n",
    "```python\n",
    "entity_mapping = {\n",
    "'O': 'O',\n",
    "'B-per': 'B-PER',\n",
    "'I-per': 'I-PER',\n",
    "'B-org': 'B-ORG',\n",
    "'I-org': 'I-ORG',\n",
    "'B-geo': 'B-LOC',\n",
    "'I-geo': 'I-LOC',\n",
    "'B-art': 'B-MISC', 'B-eve': 'B-MISC', 'B-gpe': 'B-MISC', 'B-nat': 'B-MISC', 'B-tim': 'B-MISC',\n",
    "'I-art': 'I-MISC', 'I-eve': 'I-MISC', 'I-gpe': 'I-MISC', 'I-nat': 'I-MISC', 'I-tim': 'I-MISC',\n",
    "}\n",
    "``` \n",
    "\n",
    "Assuming you can use the less precise tagset (from the BERT model),\n",
    "Find a way to compute the accuracy of the BERT-based model on all **complete locations** on the dataset. Compare with the same value obtained for the NLTK model !"
   ]
  },
  {
   "cell_type": "code",
   "execution_count": 35,
   "metadata": {},
   "outputs": [
    {
     "name": "stderr",
     "output_type": "stream",
     "text": [
      "Some weights of the model checkpoint at dslim/bert-base-NER were not used when initializing BertForTokenClassification: ['bert.pooler.dense.weight', 'bert.pooler.dense.bias']\n",
      "- This IS expected if you are initializing BertForTokenClassification from the checkpoint of a model trained on another task or with another architecture (e.g. initializing a BertForSequenceClassification model from a BertForPreTraining model).\n",
      "- This IS NOT expected if you are initializing BertForTokenClassification from the checkpoint of a model that you expect to be exactly identical (initializing a BertForSequenceClassification model from a BertForSequenceClassification model).\n",
      "c:\\Users\\matsa\\AppData\\Local\\Programs\\Python\\Python311\\Lib\\site-packages\\transformers\\pipelines\\token_classification.py:169: UserWarning: `grouped_entities` is deprecated and will be removed in version v5.0.0, defaulted to `aggregation_strategy=\"AggregationStrategy.SIMPLE\"` instead.\n",
      "  warnings.warn(\n"
     ]
    },
    {
     "ename": "KeyError",
     "evalue": "0",
     "output_type": "error",
     "traceback": [
      "\u001b[1;31m---------------------------------------------------------------------------\u001b[0m",
      "\u001b[1;31mKeyError\u001b[0m                                  Traceback (most recent call last)",
      "File \u001b[1;32mc:\\Users\\matsa\\AppData\\Local\\Programs\\Python\\Python311\\Lib\\site-packages\\pandas\\core\\indexes\\base.py:3791\u001b[0m, in \u001b[0;36mIndex.get_loc\u001b[1;34m(self, key)\u001b[0m\n\u001b[0;32m   3790\u001b[0m \u001b[38;5;28;01mtry\u001b[39;00m:\n\u001b[1;32m-> 3791\u001b[0m     \u001b[38;5;28;01mreturn\u001b[39;00m \u001b[38;5;28;43mself\u001b[39;49m\u001b[38;5;241;43m.\u001b[39;49m\u001b[43m_engine\u001b[49m\u001b[38;5;241;43m.\u001b[39;49m\u001b[43mget_loc\u001b[49m\u001b[43m(\u001b[49m\u001b[43mcasted_key\u001b[49m\u001b[43m)\u001b[49m\n\u001b[0;32m   3792\u001b[0m \u001b[38;5;28;01mexcept\u001b[39;00m \u001b[38;5;167;01mKeyError\u001b[39;00m \u001b[38;5;28;01mas\u001b[39;00m err:\n",
      "File \u001b[1;32mindex.pyx:152\u001b[0m, in \u001b[0;36mpandas._libs.index.IndexEngine.get_loc\u001b[1;34m()\u001b[0m\n",
      "File \u001b[1;32mindex.pyx:181\u001b[0m, in \u001b[0;36mpandas._libs.index.IndexEngine.get_loc\u001b[1;34m()\u001b[0m\n",
      "File \u001b[1;32mpandas\\_libs\\hashtable_class_helper.pxi:2606\u001b[0m, in \u001b[0;36mpandas._libs.hashtable.Int64HashTable.get_item\u001b[1;34m()\u001b[0m\n",
      "File \u001b[1;32mpandas\\_libs\\hashtable_class_helper.pxi:2630\u001b[0m, in \u001b[0;36mpandas._libs.hashtable.Int64HashTable.get_item\u001b[1;34m()\u001b[0m\n",
      "\u001b[1;31mKeyError\u001b[0m: 0",
      "\nThe above exception was the direct cause of the following exception:\n",
      "\u001b[1;31mKeyError\u001b[0m                                  Traceback (most recent call last)",
      "Cell \u001b[1;32mIn[35], line 8\u001b[0m\n\u001b[0;32m      5\u001b[0m y_true, y_pred \u001b[38;5;241m=\u001b[39m [], []\n\u001b[0;32m      7\u001b[0m \u001b[38;5;28;01mfor\u001b[39;00m i, w \u001b[38;5;129;01min\u001b[39;00m \u001b[38;5;28menumerate\u001b[39m(df_gr[\u001b[38;5;124m'\u001b[39m\u001b[38;5;124mWord\u001b[39m\u001b[38;5;124m'\u001b[39m]\u001b[38;5;241m.\u001b[39mto_list()):\n\u001b[1;32m----> 8\u001b[0m     \u001b[38;5;28;01mif\u001b[39;00m \u001b[43mdf_gr\u001b[49m\u001b[38;5;241;43m.\u001b[39;49m\u001b[43mloc\u001b[49m\u001b[43m[\u001b[49m\u001b[43mi\u001b[49m\u001b[43m]\u001b[49m[\u001b[38;5;124m'\u001b[39m\u001b[38;5;124mTag\u001b[39m\u001b[38;5;124m'\u001b[39m] \u001b[38;5;129;01min\u001b[39;00m tags:\n\u001b[0;32m      9\u001b[0m         ner_output \u001b[38;5;241m=\u001b[39m NER_model(w)\n\u001b[0;32m     10\u001b[0m         y_true\u001b[38;5;241m.\u001b[39mappend(df_gr\u001b[38;5;241m.\u001b[39mloc[i][\u001b[38;5;124m'\u001b[39m\u001b[38;5;124mTag\u001b[39m\u001b[38;5;124m'\u001b[39m])\n",
      "File \u001b[1;32mc:\\Users\\matsa\\AppData\\Local\\Programs\\Python\\Python311\\Lib\\site-packages\\pandas\\core\\indexing.py:1153\u001b[0m, in \u001b[0;36m_LocationIndexer.__getitem__\u001b[1;34m(self, key)\u001b[0m\n\u001b[0;32m   1150\u001b[0m axis \u001b[38;5;241m=\u001b[39m \u001b[38;5;28mself\u001b[39m\u001b[38;5;241m.\u001b[39maxis \u001b[38;5;129;01mor\u001b[39;00m \u001b[38;5;241m0\u001b[39m\n\u001b[0;32m   1152\u001b[0m maybe_callable \u001b[38;5;241m=\u001b[39m com\u001b[38;5;241m.\u001b[39mapply_if_callable(key, \u001b[38;5;28mself\u001b[39m\u001b[38;5;241m.\u001b[39mobj)\n\u001b[1;32m-> 1153\u001b[0m \u001b[38;5;28;01mreturn\u001b[39;00m \u001b[38;5;28;43mself\u001b[39;49m\u001b[38;5;241;43m.\u001b[39;49m\u001b[43m_getitem_axis\u001b[49m\u001b[43m(\u001b[49m\u001b[43mmaybe_callable\u001b[49m\u001b[43m,\u001b[49m\u001b[43m \u001b[49m\u001b[43maxis\u001b[49m\u001b[38;5;241;43m=\u001b[39;49m\u001b[43maxis\u001b[49m\u001b[43m)\u001b[49m\n",
      "File \u001b[1;32mc:\\Users\\matsa\\AppData\\Local\\Programs\\Python\\Python311\\Lib\\site-packages\\pandas\\core\\indexing.py:1393\u001b[0m, in \u001b[0;36m_LocIndexer._getitem_axis\u001b[1;34m(self, key, axis)\u001b[0m\n\u001b[0;32m   1391\u001b[0m \u001b[38;5;66;03m# fall thru to straight lookup\u001b[39;00m\n\u001b[0;32m   1392\u001b[0m \u001b[38;5;28mself\u001b[39m\u001b[38;5;241m.\u001b[39m_validate_key(key, axis)\n\u001b[1;32m-> 1393\u001b[0m \u001b[38;5;28;01mreturn\u001b[39;00m \u001b[38;5;28;43mself\u001b[39;49m\u001b[38;5;241;43m.\u001b[39;49m\u001b[43m_get_label\u001b[49m\u001b[43m(\u001b[49m\u001b[43mkey\u001b[49m\u001b[43m,\u001b[49m\u001b[43m \u001b[49m\u001b[43maxis\u001b[49m\u001b[38;5;241;43m=\u001b[39;49m\u001b[43maxis\u001b[49m\u001b[43m)\u001b[49m\n",
      "File \u001b[1;32mc:\\Users\\matsa\\AppData\\Local\\Programs\\Python\\Python311\\Lib\\site-packages\\pandas\\core\\indexing.py:1343\u001b[0m, in \u001b[0;36m_LocIndexer._get_label\u001b[1;34m(self, label, axis)\u001b[0m\n\u001b[0;32m   1341\u001b[0m \u001b[38;5;28;01mdef\u001b[39;00m \u001b[38;5;21m_get_label\u001b[39m(\u001b[38;5;28mself\u001b[39m, label, axis: AxisInt):\n\u001b[0;32m   1342\u001b[0m     \u001b[38;5;66;03m# GH#5567 this will fail if the label is not present in the axis.\u001b[39;00m\n\u001b[1;32m-> 1343\u001b[0m     \u001b[38;5;28;01mreturn\u001b[39;00m \u001b[38;5;28;43mself\u001b[39;49m\u001b[38;5;241;43m.\u001b[39;49m\u001b[43mobj\u001b[49m\u001b[38;5;241;43m.\u001b[39;49m\u001b[43mxs\u001b[49m\u001b[43m(\u001b[49m\u001b[43mlabel\u001b[49m\u001b[43m,\u001b[49m\u001b[43m \u001b[49m\u001b[43maxis\u001b[49m\u001b[38;5;241;43m=\u001b[39;49m\u001b[43maxis\u001b[49m\u001b[43m)\u001b[49m\n",
      "File \u001b[1;32mc:\\Users\\matsa\\AppData\\Local\\Programs\\Python\\Python311\\Lib\\site-packages\\pandas\\core\\generic.py:4236\u001b[0m, in \u001b[0;36mNDFrame.xs\u001b[1;34m(self, key, axis, level, drop_level)\u001b[0m\n\u001b[0;32m   4234\u001b[0m             new_index \u001b[38;5;241m=\u001b[39m index[loc]\n\u001b[0;32m   4235\u001b[0m \u001b[38;5;28;01melse\u001b[39;00m:\n\u001b[1;32m-> 4236\u001b[0m     loc \u001b[38;5;241m=\u001b[39m \u001b[43mindex\u001b[49m\u001b[38;5;241;43m.\u001b[39;49m\u001b[43mget_loc\u001b[49m\u001b[43m(\u001b[49m\u001b[43mkey\u001b[49m\u001b[43m)\u001b[49m\n\u001b[0;32m   4238\u001b[0m     \u001b[38;5;28;01mif\u001b[39;00m \u001b[38;5;28misinstance\u001b[39m(loc, np\u001b[38;5;241m.\u001b[39mndarray):\n\u001b[0;32m   4239\u001b[0m         \u001b[38;5;28;01mif\u001b[39;00m loc\u001b[38;5;241m.\u001b[39mdtype \u001b[38;5;241m==\u001b[39m np\u001b[38;5;241m.\u001b[39mbool_:\n",
      "File \u001b[1;32mc:\\Users\\matsa\\AppData\\Local\\Programs\\Python\\Python311\\Lib\\site-packages\\pandas\\core\\indexes\\base.py:3798\u001b[0m, in \u001b[0;36mIndex.get_loc\u001b[1;34m(self, key)\u001b[0m\n\u001b[0;32m   3793\u001b[0m     \u001b[38;5;28;01mif\u001b[39;00m \u001b[38;5;28misinstance\u001b[39m(casted_key, \u001b[38;5;28mslice\u001b[39m) \u001b[38;5;129;01mor\u001b[39;00m (\n\u001b[0;32m   3794\u001b[0m         \u001b[38;5;28misinstance\u001b[39m(casted_key, abc\u001b[38;5;241m.\u001b[39mIterable)\n\u001b[0;32m   3795\u001b[0m         \u001b[38;5;129;01mand\u001b[39;00m \u001b[38;5;28many\u001b[39m(\u001b[38;5;28misinstance\u001b[39m(x, \u001b[38;5;28mslice\u001b[39m) \u001b[38;5;28;01mfor\u001b[39;00m x \u001b[38;5;129;01min\u001b[39;00m casted_key)\n\u001b[0;32m   3796\u001b[0m     ):\n\u001b[0;32m   3797\u001b[0m         \u001b[38;5;28;01mraise\u001b[39;00m InvalidIndexError(key)\n\u001b[1;32m-> 3798\u001b[0m     \u001b[38;5;28;01mraise\u001b[39;00m \u001b[38;5;167;01mKeyError\u001b[39;00m(key) \u001b[38;5;28;01mfrom\u001b[39;00m \u001b[38;5;21;01merr\u001b[39;00m\n\u001b[0;32m   3799\u001b[0m \u001b[38;5;28;01mexcept\u001b[39;00m \u001b[38;5;167;01mTypeError\u001b[39;00m:\n\u001b[0;32m   3800\u001b[0m     \u001b[38;5;66;03m# If we have a listlike key, _check_indexing_error will raise\u001b[39;00m\n\u001b[0;32m   3801\u001b[0m     \u001b[38;5;66;03m#  InvalidIndexError. Otherwise we fall through and re-raise\u001b[39;00m\n\u001b[0;32m   3802\u001b[0m     \u001b[38;5;66;03m#  the TypeError.\u001b[39;00m\n\u001b[0;32m   3803\u001b[0m     \u001b[38;5;28mself\u001b[39m\u001b[38;5;241m.\u001b[39m_check_indexing_error(key)\n",
      "\u001b[1;31mKeyError\u001b[0m: 0"
     ]
    }
   ],
   "source": [
    "from sklearn.metrics import accuracy_score\n",
    "NER_model = pipeline(\"ner\",\n",
    "                            model=\"dslim/bert-base-NER\",\n",
    "                            grouped_entities=True)\n",
    "tags = ['B-geo', 'I-geo', 'B-LOC', 'I-LOC']\n",
    "for i,w in enumerate(df_gr['Word'].to_list()):\n",
    "    if df_gr.loc[i]['Tag'] in tags:        \n",
    "        ner_output = NER_model(w)\n",
    "        break        \n",
    "\n",
    "# print(\"Output from the pipeline containing the BERT-based model:\")\n",
    "# ner_output = NER_model(example)\n",
    "# print(ner_output)\n",
    "# print(\"Reference tag list\")\n",
    "# print(example_tag)"
   ]
  },
  {
   "cell_type": "code",
   "execution_count": null,
   "metadata": {},
   "outputs": [],
   "source": []
  }
 ],
 "metadata": {
  "kernelspec": {
   "display_name": "struct-pred-TP",
   "language": "python",
   "name": "python3"
  },
  "language_info": {
   "codemirror_mode": {
    "name": "ipython",
    "version": 3
   },
   "file_extension": ".py",
   "mimetype": "text/x-python",
   "name": "python",
   "nbconvert_exporter": "python",
   "pygments_lexer": "ipython3",
   "version": "3.11.5"
  }
 },
 "nbformat": 4,
 "nbformat_minor": 2
}
